{
 "cells": [
  {
   "cell_type": "markdown",
   "metadata": {},
   "source": [
    "# Исследование закономерностей успешности игр  \n",
    "Вы работаете в интернет-магазине «Стримчик», который продаёт по всему миру компьютерные игры. Из открытых источников доступны исторические данные о продажах игр, оценки пользователей и экспертов, жанры и платформы (например, Xbox или PlayStation). Вам нужно выявить определяющие успешность игры закономерности. Это позволит сделать ставку на потенциально популярный продукт и спланировать рекламные кампании.  \n",
    "Перед вами данные до 2016 года. Представим, что сейчас декабрь 2016 г., и вы планируете кампанию на 2017-й. Нужно отработать принцип работы с данными. Неважно, прогнозируете ли вы продажи на 2017 год по данным 2016-го или же 2027-й — по данным 2026 года.  \n",
    "В наборе данных попадается аббревиатура ESRB (Entertainment Software Rating Board) — это ассоциация, определяющая возрастной рейтинг компьютерных игр. ESRB оценивает игровой контент и присваивает ему подходящую возрастную категорию, например, «Для взрослых», «Для детей младшего возраста» или «Для подростков».  \n",
    "***\n",
    "Описание имеющихся данных:\n",
    "\n",
    "  * `Name` — название игры;\n",
    "  * `Platform` — платформа;\n",
    "  * `Year_of_Release` — год выпуска;\n",
    "  * `Genre` — жанр игры;\n",
    "  * `NA_sales` — продажи в Северной Америке (миллионы проданных копий);\n",
    "  * `EU_sales` — продажи в Европе (миллионы проданных копий);\n",
    "  * `JP_sales` — продажи в Японии (миллионы проданных копий);\n",
    "  * `Other_sales` — продажи в других странах (миллионы проданных копий);\n",
    "  * `Critic_Score` — оценка критиков (максимум 100);\n",
    "  * `User_Score` — оценка пользователей (максимум 10);\n",
    "  * `Rating` — рейтинг от организации ESRB (англ. Entertainment Software Rating Board). Эта ассоциация определяет рейтинг компьютерных игр и присваивает им подходящую возрастную категорию.  \n",
    "\n",
    "Цель исследования:\n",
    "  1. Формирование портрета потребителя по регионам;\n",
    "  2. Опеределение факкторов, оказывающих влияние на продажи;\n",
    "  3. Проверка применимости выявленных закономерностей от региона к региону;\n",
    "  4. Проверка имеющихся гипотез.\n",
    "\n",
    "Ход исследования:  \n",
    "Данные я получу из датасета `/datasets/games.csv`, о данных мне ничего неизвестно, поэтому первым делом я оценю их с точки зрения чистоты и полноты. Если понадобится, то проведу подготовительные мероприятия.\n",
    "Далее нужно будет оценить влияние полноты данных на цели исследования. Если возможно, и это не исказит финального результата исследования, то постараюсь имеющиеся ошибки. Далее дополню датасет новыми столбцами, с дополнительно помситанными результатами, по мере необходимости. После всех предварительных шагов перейду к исследовательскому анализу.  \n",
    "Так можно выделить основные шаги моего исследования:\n",
    "* Обзор данных;  \n",
    "* Предобработка;  \n",
    "* Исследовательский анализ даных:  \n",
    "    + определение взаимосвязи между отзывами и продажами;\n",
    "    + справедлива ли закономерность для всех платформ?;\n",
    "    + анализ влияния жанра на продажи;\n",
    "    + определение портрета пользователя для каждого региона;\n",
    "    + определение самых популярных платформ для кадого региона;\n",
    "    + определение самых популярных жарнов для кадого региона;\n",
    "    + взаимосвязь рейтинга ESRB на продажи в регионе;\n",
    "* Проверка гипотез:\n",
    "    + Средние пользовательские рейтинги платформ Xbox One и PC одинаковые;  \n",
    "    + Средние пользовательские рейтинги жанров Action (англ. «действие», экшен-игры) и Sports (англ. «спортивные соревнования») разные.  \n",
    "* Общий вывод."
   ]
  },
  {
   "cell_type": "markdown",
   "metadata": {},
   "source": [
    "## Оценка данных"
   ]
  },
  {
   "cell_type": "code",
   "execution_count": 1,
   "metadata": {},
   "outputs": [],
   "source": [
    "# импортируем необходимые библиотеки\n",
    "import pandas as pd\n",
    "import numpy as np\n",
    "import matplotlib.pyplot as plt\n",
    "import seaborn as sns\n",
    "from scipy import stats as st"
   ]
  },
  {
   "cell_type": "code",
   "execution_count": 2,
   "metadata": {},
   "outputs": [
    {
     "name": "stdout",
     "output_type": "stream",
     "text": [
      "<class 'pandas.core.frame.DataFrame'>\n",
      "RangeIndex: 16715 entries, 0 to 16714\n",
      "Data columns (total 11 columns):\n",
      " #   Column           Non-Null Count  Dtype  \n",
      "---  ------           --------------  -----  \n",
      " 0   Name             16713 non-null  object \n",
      " 1   Platform         16715 non-null  object \n",
      " 2   Year_of_Release  16446 non-null  float64\n",
      " 3   Genre            16713 non-null  object \n",
      " 4   NA_sales         16715 non-null  float64\n",
      " 5   EU_sales         16715 non-null  float64\n",
      " 6   JP_sales         16715 non-null  float64\n",
      " 7   Other_sales      16715 non-null  float64\n",
      " 8   Critic_Score     8137 non-null   float64\n",
      " 9   User_Score       10014 non-null  object \n",
      " 10  Rating           9949 non-null   object \n",
      "dtypes: float64(6), object(5)\n",
      "memory usage: 1.4+ MB\n"
     ]
    },
    {
     "data": {
      "text/html": [
       "<div>\n",
       "<style scoped>\n",
       "    .dataframe tbody tr th:only-of-type {\n",
       "        vertical-align: middle;\n",
       "    }\n",
       "\n",
       "    .dataframe tbody tr th {\n",
       "        vertical-align: top;\n",
       "    }\n",
       "\n",
       "    .dataframe thead th {\n",
       "        text-align: right;\n",
       "    }\n",
       "</style>\n",
       "<table border=\"1\" class=\"dataframe\">\n",
       "  <thead>\n",
       "    <tr style=\"text-align: right;\">\n",
       "      <th></th>\n",
       "      <th>Name</th>\n",
       "      <th>Platform</th>\n",
       "      <th>Year_of_Release</th>\n",
       "      <th>Genre</th>\n",
       "      <th>NA_sales</th>\n",
       "      <th>EU_sales</th>\n",
       "      <th>JP_sales</th>\n",
       "      <th>Other_sales</th>\n",
       "      <th>Critic_Score</th>\n",
       "      <th>User_Score</th>\n",
       "      <th>Rating</th>\n",
       "    </tr>\n",
       "  </thead>\n",
       "  <tbody>\n",
       "    <tr>\n",
       "      <th>0</th>\n",
       "      <td>Wii Sports</td>\n",
       "      <td>Wii</td>\n",
       "      <td>2006.0</td>\n",
       "      <td>Sports</td>\n",
       "      <td>41.36</td>\n",
       "      <td>28.96</td>\n",
       "      <td>3.77</td>\n",
       "      <td>8.45</td>\n",
       "      <td>76.0</td>\n",
       "      <td>8</td>\n",
       "      <td>E</td>\n",
       "    </tr>\n",
       "    <tr>\n",
       "      <th>1</th>\n",
       "      <td>Super Mario Bros.</td>\n",
       "      <td>NES</td>\n",
       "      <td>1985.0</td>\n",
       "      <td>Platform</td>\n",
       "      <td>29.08</td>\n",
       "      <td>3.58</td>\n",
       "      <td>6.81</td>\n",
       "      <td>0.77</td>\n",
       "      <td>NaN</td>\n",
       "      <td>NaN</td>\n",
       "      <td>NaN</td>\n",
       "    </tr>\n",
       "    <tr>\n",
       "      <th>2</th>\n",
       "      <td>Mario Kart Wii</td>\n",
       "      <td>Wii</td>\n",
       "      <td>2008.0</td>\n",
       "      <td>Racing</td>\n",
       "      <td>15.68</td>\n",
       "      <td>12.76</td>\n",
       "      <td>3.79</td>\n",
       "      <td>3.29</td>\n",
       "      <td>82.0</td>\n",
       "      <td>8.3</td>\n",
       "      <td>E</td>\n",
       "    </tr>\n",
       "    <tr>\n",
       "      <th>3</th>\n",
       "      <td>Wii Sports Resort</td>\n",
       "      <td>Wii</td>\n",
       "      <td>2009.0</td>\n",
       "      <td>Sports</td>\n",
       "      <td>15.61</td>\n",
       "      <td>10.93</td>\n",
       "      <td>3.28</td>\n",
       "      <td>2.95</td>\n",
       "      <td>80.0</td>\n",
       "      <td>8</td>\n",
       "      <td>E</td>\n",
       "    </tr>\n",
       "    <tr>\n",
       "      <th>4</th>\n",
       "      <td>Pokemon Red/Pokemon Blue</td>\n",
       "      <td>GB</td>\n",
       "      <td>1996.0</td>\n",
       "      <td>Role-Playing</td>\n",
       "      <td>11.27</td>\n",
       "      <td>8.89</td>\n",
       "      <td>10.22</td>\n",
       "      <td>1.00</td>\n",
       "      <td>NaN</td>\n",
       "      <td>NaN</td>\n",
       "      <td>NaN</td>\n",
       "    </tr>\n",
       "  </tbody>\n",
       "</table>\n",
       "</div>"
      ],
      "text/plain": [
       "                       Name Platform  Year_of_Release         Genre  NA_sales  \\\n",
       "0                Wii Sports      Wii           2006.0        Sports     41.36   \n",
       "1         Super Mario Bros.      NES           1985.0      Platform     29.08   \n",
       "2            Mario Kart Wii      Wii           2008.0        Racing     15.68   \n",
       "3         Wii Sports Resort      Wii           2009.0        Sports     15.61   \n",
       "4  Pokemon Red/Pokemon Blue       GB           1996.0  Role-Playing     11.27   \n",
       "\n",
       "   EU_sales  JP_sales  Other_sales  Critic_Score User_Score Rating  \n",
       "0     28.96      3.77         8.45          76.0          8      E  \n",
       "1      3.58      6.81         0.77           NaN        NaN    NaN  \n",
       "2     12.76      3.79         3.29          82.0        8.3      E  \n",
       "3     10.93      3.28         2.95          80.0          8      E  \n",
       "4      8.89     10.22         1.00           NaN        NaN    NaN  "
      ]
     },
     "metadata": {},
     "output_type": "display_data"
    },
    {
     "data": {
      "text/html": [
       "<div>\n",
       "<style scoped>\n",
       "    .dataframe tbody tr th:only-of-type {\n",
       "        vertical-align: middle;\n",
       "    }\n",
       "\n",
       "    .dataframe tbody tr th {\n",
       "        vertical-align: top;\n",
       "    }\n",
       "\n",
       "    .dataframe thead th {\n",
       "        text-align: right;\n",
       "    }\n",
       "</style>\n",
       "<table border=\"1\" class=\"dataframe\">\n",
       "  <thead>\n",
       "    <tr style=\"text-align: right;\">\n",
       "      <th></th>\n",
       "      <th>Name</th>\n",
       "      <th>Platform</th>\n",
       "      <th>Year_of_Release</th>\n",
       "      <th>Genre</th>\n",
       "      <th>NA_sales</th>\n",
       "      <th>EU_sales</th>\n",
       "      <th>JP_sales</th>\n",
       "      <th>Other_sales</th>\n",
       "      <th>Critic_Score</th>\n",
       "      <th>User_Score</th>\n",
       "      <th>Rating</th>\n",
       "    </tr>\n",
       "  </thead>\n",
       "  <tbody>\n",
       "    <tr>\n",
       "      <th>16266</th>\n",
       "      <td>Shepherd's Crossing</td>\n",
       "      <td>PSP</td>\n",
       "      <td>2009.0</td>\n",
       "      <td>Simulation</td>\n",
       "      <td>0.00</td>\n",
       "      <td>0.00</td>\n",
       "      <td>0.01</td>\n",
       "      <td>0.00</td>\n",
       "      <td>NaN</td>\n",
       "      <td>tbd</td>\n",
       "      <td>E</td>\n",
       "    </tr>\n",
       "    <tr>\n",
       "      <th>4202</th>\n",
       "      <td>Godzilla: Save the Earth</td>\n",
       "      <td>PS2</td>\n",
       "      <td>2004.0</td>\n",
       "      <td>Fighting</td>\n",
       "      <td>0.23</td>\n",
       "      <td>0.18</td>\n",
       "      <td>0.00</td>\n",
       "      <td>0.06</td>\n",
       "      <td>62.0</td>\n",
       "      <td>8.7</td>\n",
       "      <td>T</td>\n",
       "    </tr>\n",
       "    <tr>\n",
       "      <th>1535</th>\n",
       "      <td>Gold's Gym: Cardio Workout</td>\n",
       "      <td>Wii</td>\n",
       "      <td>2008.0</td>\n",
       "      <td>Sports</td>\n",
       "      <td>1.10</td>\n",
       "      <td>0.03</td>\n",
       "      <td>0.06</td>\n",
       "      <td>0.09</td>\n",
       "      <td>NaN</td>\n",
       "      <td>8.4</td>\n",
       "      <td>E</td>\n",
       "    </tr>\n",
       "    <tr>\n",
       "      <th>11083</th>\n",
       "      <td>SpongeBob: HeroPants</td>\n",
       "      <td>X360</td>\n",
       "      <td>2015.0</td>\n",
       "      <td>Platform</td>\n",
       "      <td>0.08</td>\n",
       "      <td>0.00</td>\n",
       "      <td>0.00</td>\n",
       "      <td>0.01</td>\n",
       "      <td>NaN</td>\n",
       "      <td>3.4</td>\n",
       "      <td>E</td>\n",
       "    </tr>\n",
       "    <tr>\n",
       "      <th>11167</th>\n",
       "      <td>Sengoku Basara 4: Sumeragi</td>\n",
       "      <td>PS3</td>\n",
       "      <td>2015.0</td>\n",
       "      <td>Action</td>\n",
       "      <td>0.00</td>\n",
       "      <td>0.00</td>\n",
       "      <td>0.09</td>\n",
       "      <td>0.00</td>\n",
       "      <td>NaN</td>\n",
       "      <td>NaN</td>\n",
       "      <td>NaN</td>\n",
       "    </tr>\n",
       "  </tbody>\n",
       "</table>\n",
       "</div>"
      ],
      "text/plain": [
       "                             Name Platform  Year_of_Release       Genre  \\\n",
       "16266         Shepherd's Crossing      PSP           2009.0  Simulation   \n",
       "4202     Godzilla: Save the Earth      PS2           2004.0    Fighting   \n",
       "1535   Gold's Gym: Cardio Workout      Wii           2008.0      Sports   \n",
       "11083        SpongeBob: HeroPants     X360           2015.0    Platform   \n",
       "11167  Sengoku Basara 4: Sumeragi      PS3           2015.0      Action   \n",
       "\n",
       "       NA_sales  EU_sales  JP_sales  Other_sales  Critic_Score User_Score  \\\n",
       "16266      0.00      0.00      0.01         0.00           NaN        tbd   \n",
       "4202       0.23      0.18      0.00         0.06          62.0        8.7   \n",
       "1535       1.10      0.03      0.06         0.09           NaN        8.4   \n",
       "11083      0.08      0.00      0.00         0.01           NaN        3.4   \n",
       "11167      0.00      0.00      0.09         0.00           NaN        NaN   \n",
       "\n",
       "      Rating  \n",
       "16266      E  \n",
       "4202       T  \n",
       "1535       E  \n",
       "11083      E  \n",
       "11167    NaN  "
      ]
     },
     "metadata": {},
     "output_type": "display_data"
    },
    {
     "data": {
      "text/html": [
       "<div>\n",
       "<style scoped>\n",
       "    .dataframe tbody tr th:only-of-type {\n",
       "        vertical-align: middle;\n",
       "    }\n",
       "\n",
       "    .dataframe tbody tr th {\n",
       "        vertical-align: top;\n",
       "    }\n",
       "\n",
       "    .dataframe thead th {\n",
       "        text-align: right;\n",
       "    }\n",
       "</style>\n",
       "<table border=\"1\" class=\"dataframe\">\n",
       "  <thead>\n",
       "    <tr style=\"text-align: right;\">\n",
       "      <th></th>\n",
       "      <th>Name</th>\n",
       "      <th>Platform</th>\n",
       "      <th>Year_of_Release</th>\n",
       "      <th>Genre</th>\n",
       "      <th>NA_sales</th>\n",
       "      <th>EU_sales</th>\n",
       "      <th>JP_sales</th>\n",
       "      <th>Other_sales</th>\n",
       "      <th>Critic_Score</th>\n",
       "      <th>User_Score</th>\n",
       "      <th>Rating</th>\n",
       "    </tr>\n",
       "  </thead>\n",
       "  <tbody>\n",
       "    <tr>\n",
       "      <th>16710</th>\n",
       "      <td>Samurai Warriors: Sanada Maru</td>\n",
       "      <td>PS3</td>\n",
       "      <td>2016.0</td>\n",
       "      <td>Action</td>\n",
       "      <td>0.00</td>\n",
       "      <td>0.00</td>\n",
       "      <td>0.01</td>\n",
       "      <td>0.0</td>\n",
       "      <td>NaN</td>\n",
       "      <td>NaN</td>\n",
       "      <td>NaN</td>\n",
       "    </tr>\n",
       "    <tr>\n",
       "      <th>16711</th>\n",
       "      <td>LMA Manager 2007</td>\n",
       "      <td>X360</td>\n",
       "      <td>2006.0</td>\n",
       "      <td>Sports</td>\n",
       "      <td>0.00</td>\n",
       "      <td>0.01</td>\n",
       "      <td>0.00</td>\n",
       "      <td>0.0</td>\n",
       "      <td>NaN</td>\n",
       "      <td>NaN</td>\n",
       "      <td>NaN</td>\n",
       "    </tr>\n",
       "    <tr>\n",
       "      <th>16712</th>\n",
       "      <td>Haitaka no Psychedelica</td>\n",
       "      <td>PSV</td>\n",
       "      <td>2016.0</td>\n",
       "      <td>Adventure</td>\n",
       "      <td>0.00</td>\n",
       "      <td>0.00</td>\n",
       "      <td>0.01</td>\n",
       "      <td>0.0</td>\n",
       "      <td>NaN</td>\n",
       "      <td>NaN</td>\n",
       "      <td>NaN</td>\n",
       "    </tr>\n",
       "    <tr>\n",
       "      <th>16713</th>\n",
       "      <td>Spirits &amp; Spells</td>\n",
       "      <td>GBA</td>\n",
       "      <td>2003.0</td>\n",
       "      <td>Platform</td>\n",
       "      <td>0.01</td>\n",
       "      <td>0.00</td>\n",
       "      <td>0.00</td>\n",
       "      <td>0.0</td>\n",
       "      <td>NaN</td>\n",
       "      <td>NaN</td>\n",
       "      <td>NaN</td>\n",
       "    </tr>\n",
       "    <tr>\n",
       "      <th>16714</th>\n",
       "      <td>Winning Post 8 2016</td>\n",
       "      <td>PSV</td>\n",
       "      <td>2016.0</td>\n",
       "      <td>Simulation</td>\n",
       "      <td>0.00</td>\n",
       "      <td>0.00</td>\n",
       "      <td>0.01</td>\n",
       "      <td>0.0</td>\n",
       "      <td>NaN</td>\n",
       "      <td>NaN</td>\n",
       "      <td>NaN</td>\n",
       "    </tr>\n",
       "  </tbody>\n",
       "</table>\n",
       "</div>"
      ],
      "text/plain": [
       "                                Name Platform  Year_of_Release       Genre  \\\n",
       "16710  Samurai Warriors: Sanada Maru      PS3           2016.0      Action   \n",
       "16711               LMA Manager 2007     X360           2006.0      Sports   \n",
       "16712        Haitaka no Psychedelica      PSV           2016.0   Adventure   \n",
       "16713               Spirits & Spells      GBA           2003.0    Platform   \n",
       "16714            Winning Post 8 2016      PSV           2016.0  Simulation   \n",
       "\n",
       "       NA_sales  EU_sales  JP_sales  Other_sales  Critic_Score User_Score  \\\n",
       "16710      0.00      0.00      0.01          0.0           NaN        NaN   \n",
       "16711      0.00      0.01      0.00          0.0           NaN        NaN   \n",
       "16712      0.00      0.00      0.01          0.0           NaN        NaN   \n",
       "16713      0.01      0.00      0.00          0.0           NaN        NaN   \n",
       "16714      0.00      0.00      0.01          0.0           NaN        NaN   \n",
       "\n",
       "      Rating  \n",
       "16710    NaN  \n",
       "16711    NaN  \n",
       "16712    NaN  \n",
       "16713    NaN  \n",
       "16714    NaN  "
      ]
     },
     "metadata": {},
     "output_type": "display_data"
    },
    {
     "data": {
      "text/html": [
       "<div>\n",
       "<style scoped>\n",
       "    .dataframe tbody tr th:only-of-type {\n",
       "        vertical-align: middle;\n",
       "    }\n",
       "\n",
       "    .dataframe tbody tr th {\n",
       "        vertical-align: top;\n",
       "    }\n",
       "\n",
       "    .dataframe thead th {\n",
       "        text-align: right;\n",
       "    }\n",
       "</style>\n",
       "<table border=\"1\" class=\"dataframe\">\n",
       "  <thead>\n",
       "    <tr style=\"text-align: right;\">\n",
       "      <th></th>\n",
       "      <th>Year_of_Release</th>\n",
       "      <th>NA_sales</th>\n",
       "      <th>EU_sales</th>\n",
       "      <th>JP_sales</th>\n",
       "      <th>Other_sales</th>\n",
       "      <th>Critic_Score</th>\n",
       "    </tr>\n",
       "  </thead>\n",
       "  <tbody>\n",
       "    <tr>\n",
       "      <th>count</th>\n",
       "      <td>16446.000000</td>\n",
       "      <td>16715.000000</td>\n",
       "      <td>16715.000000</td>\n",
       "      <td>16715.000000</td>\n",
       "      <td>16715.000000</td>\n",
       "      <td>8137.000000</td>\n",
       "    </tr>\n",
       "    <tr>\n",
       "      <th>mean</th>\n",
       "      <td>2006.484616</td>\n",
       "      <td>0.263377</td>\n",
       "      <td>0.145060</td>\n",
       "      <td>0.077617</td>\n",
       "      <td>0.047342</td>\n",
       "      <td>68.967679</td>\n",
       "    </tr>\n",
       "    <tr>\n",
       "      <th>std</th>\n",
       "      <td>5.877050</td>\n",
       "      <td>0.813604</td>\n",
       "      <td>0.503339</td>\n",
       "      <td>0.308853</td>\n",
       "      <td>0.186731</td>\n",
       "      <td>13.938165</td>\n",
       "    </tr>\n",
       "    <tr>\n",
       "      <th>min</th>\n",
       "      <td>1980.000000</td>\n",
       "      <td>0.000000</td>\n",
       "      <td>0.000000</td>\n",
       "      <td>0.000000</td>\n",
       "      <td>0.000000</td>\n",
       "      <td>13.000000</td>\n",
       "    </tr>\n",
       "    <tr>\n",
       "      <th>25%</th>\n",
       "      <td>2003.000000</td>\n",
       "      <td>0.000000</td>\n",
       "      <td>0.000000</td>\n",
       "      <td>0.000000</td>\n",
       "      <td>0.000000</td>\n",
       "      <td>60.000000</td>\n",
       "    </tr>\n",
       "    <tr>\n",
       "      <th>50%</th>\n",
       "      <td>2007.000000</td>\n",
       "      <td>0.080000</td>\n",
       "      <td>0.020000</td>\n",
       "      <td>0.000000</td>\n",
       "      <td>0.010000</td>\n",
       "      <td>71.000000</td>\n",
       "    </tr>\n",
       "    <tr>\n",
       "      <th>75%</th>\n",
       "      <td>2010.000000</td>\n",
       "      <td>0.240000</td>\n",
       "      <td>0.110000</td>\n",
       "      <td>0.040000</td>\n",
       "      <td>0.030000</td>\n",
       "      <td>79.000000</td>\n",
       "    </tr>\n",
       "    <tr>\n",
       "      <th>max</th>\n",
       "      <td>2016.000000</td>\n",
       "      <td>41.360000</td>\n",
       "      <td>28.960000</td>\n",
       "      <td>10.220000</td>\n",
       "      <td>10.570000</td>\n",
       "      <td>98.000000</td>\n",
       "    </tr>\n",
       "  </tbody>\n",
       "</table>\n",
       "</div>"
      ],
      "text/plain": [
       "       Year_of_Release      NA_sales      EU_sales      JP_sales  \\\n",
       "count     16446.000000  16715.000000  16715.000000  16715.000000   \n",
       "mean       2006.484616      0.263377      0.145060      0.077617   \n",
       "std           5.877050      0.813604      0.503339      0.308853   \n",
       "min        1980.000000      0.000000      0.000000      0.000000   \n",
       "25%        2003.000000      0.000000      0.000000      0.000000   \n",
       "50%        2007.000000      0.080000      0.020000      0.000000   \n",
       "75%        2010.000000      0.240000      0.110000      0.040000   \n",
       "max        2016.000000     41.360000     28.960000     10.220000   \n",
       "\n",
       "        Other_sales  Critic_Score  \n",
       "count  16715.000000   8137.000000  \n",
       "mean       0.047342     68.967679  \n",
       "std        0.186731     13.938165  \n",
       "min        0.000000     13.000000  \n",
       "25%        0.000000     60.000000  \n",
       "50%        0.010000     71.000000  \n",
       "75%        0.030000     79.000000  \n",
       "max       10.570000     98.000000  "
      ]
     },
     "metadata": {},
     "output_type": "display_data"
    },
    {
     "data": {
      "text/plain": [
       "None"
      ]
     },
     "metadata": {},
     "output_type": "display_data"
    }
   ],
   "source": [
    "# сохраняем датасет в пеерменную\n",
    "data = pd.read_csv('/datasets/games.csv')\n",
    "# разом выполняем еобходимые команды для проверки качества данных\n",
    "display(data.head(),data.sample(5),data.tail(),data.describe(),data.info())"
   ]
  },
  {
   "cell_type": "markdown",
   "metadata": {},
   "source": [
    "### Выводы:  \n",
    "* нарушен синтаксис в названиях столбцов\n",
    "* есть столбцы с некорректным типом данных\n",
    "* в значениях есть пропуски\n",
    "* нужно проверить на наличие дубликатов"
   ]
  },
  {
   "cell_type": "markdown",
   "metadata": {},
   "source": [
    "## Предварительная обработка данных"
   ]
  },
  {
   "cell_type": "markdown",
   "metadata": {},
   "source": [
    "### Названия столбцов"
   ]
  },
  {
   "cell_type": "code",
   "execution_count": 3,
   "metadata": {},
   "outputs": [
    {
     "data": {
      "text/plain": [
       "Index(['Name', 'Platform', 'Year_of_Release', 'Genre', 'NA_sales', 'EU_sales',\n",
       "       'JP_sales', 'Other_sales', 'Critic_Score', 'User_Score', 'Rating'],\n",
       "      dtype='object')"
      ]
     },
     "execution_count": 3,
     "metadata": {},
     "output_type": "execute_result"
    }
   ],
   "source": [
    "# посмотрим все названия столбцов\n",
    "data.columns"
   ]
  },
  {
   "cell_type": "code",
   "execution_count": 4,
   "metadata": {},
   "outputs": [
    {
     "data": {
      "text/plain": [
       "Index(['name', 'platform', 'year_of_release', 'genre', 'na_sales', 'eu_sales',\n",
       "       'jp_sales', 'other_sales', 'critic_score', 'user_score', 'rating'],\n",
       "      dtype='object')"
      ]
     },
     "execution_count": 4,
     "metadata": {},
     "output_type": "execute_result"
    }
   ],
   "source": [
    "# единственная проблема - это большие буквы\n",
    "data.columns = data.columns.str.lower()\n",
    "# проверяем\n",
    "data.columns"
   ]
  },
  {
   "cell_type": "markdown",
   "metadata": {},
   "source": [
    "### Обработка пропусков"
   ]
  },
  {
   "cell_type": "code",
   "execution_count": 5,
   "metadata": {},
   "outputs": [
    {
     "data": {
      "text/plain": [
       "name                  2\n",
       "platform              0\n",
       "year_of_release     269\n",
       "genre                 2\n",
       "na_sales              0\n",
       "eu_sales              0\n",
       "jp_sales              0\n",
       "other_sales           0\n",
       "critic_score       8578\n",
       "user_score         6701\n",
       "rating             6766\n",
       "dtype: int64"
      ]
     },
     "execution_count": 5,
     "metadata": {},
     "output_type": "execute_result"
    }
   ],
   "source": [
    "# нужно внимательно посмотреть, где присутствуют пропуски\n",
    "data.isna().sum()"
   ]
  },
  {
   "cell_type": "code",
   "execution_count": 6,
   "metadata": {},
   "outputs": [
    {
     "data": {
      "text/html": [
       "<style  type=\"text/css\" >\n",
       "#T_7b5d8_row0_col0,#T_7b5d8_row1_col0,#T_7b5d8_row3_col0,#T_7b5d8_row4_col0,#T_7b5d8_row5_col0,#T_7b5d8_row6_col0,#T_7b5d8_row7_col0{\n",
       "            background-color:  #3b4cc0;\n",
       "            color:  #f1f1f1;\n",
       "        }#T_7b5d8_row2_col0{\n",
       "            background-color:  #465ecf;\n",
       "            color:  #f1f1f1;\n",
       "        }#T_7b5d8_row8_col0{\n",
       "            background-color:  #b40426;\n",
       "            color:  #f1f1f1;\n",
       "        }#T_7b5d8_row9_col0,#T_7b5d8_row10_col0{\n",
       "            background-color:  #f08b6e;\n",
       "            color:  #000000;\n",
       "        }</style><table id=\"T_7b5d8_\" ><thead>    <tr>        <th class=\"blank level0\" ></th>        <th class=\"col_heading level0 col0\" >0</th>    </tr></thead><tbody>\n",
       "                <tr>\n",
       "                        <th id=\"T_7b5d8_level0_row0\" class=\"row_heading level0 row0\" >name</th>\n",
       "                        <td id=\"T_7b5d8_row0_col0\" class=\"data row0 col0\" >0.000000</td>\n",
       "            </tr>\n",
       "            <tr>\n",
       "                        <th id=\"T_7b5d8_level0_row1\" class=\"row_heading level0 row1\" >platform</th>\n",
       "                        <td id=\"T_7b5d8_row1_col0\" class=\"data row1 col0\" >0.000000</td>\n",
       "            </tr>\n",
       "            <tr>\n",
       "                        <th id=\"T_7b5d8_level0_row2\" class=\"row_heading level0 row2\" >year_of_release</th>\n",
       "                        <td id=\"T_7b5d8_row2_col0\" class=\"data row2 col0\" >2.000000</td>\n",
       "            </tr>\n",
       "            <tr>\n",
       "                        <th id=\"T_7b5d8_level0_row3\" class=\"row_heading level0 row3\" >genre</th>\n",
       "                        <td id=\"T_7b5d8_row3_col0\" class=\"data row3 col0\" >0.000000</td>\n",
       "            </tr>\n",
       "            <tr>\n",
       "                        <th id=\"T_7b5d8_level0_row4\" class=\"row_heading level0 row4\" >na_sales</th>\n",
       "                        <td id=\"T_7b5d8_row4_col0\" class=\"data row4 col0\" >0.000000</td>\n",
       "            </tr>\n",
       "            <tr>\n",
       "                        <th id=\"T_7b5d8_level0_row5\" class=\"row_heading level0 row5\" >eu_sales</th>\n",
       "                        <td id=\"T_7b5d8_row5_col0\" class=\"data row5 col0\" >0.000000</td>\n",
       "            </tr>\n",
       "            <tr>\n",
       "                        <th id=\"T_7b5d8_level0_row6\" class=\"row_heading level0 row6\" >jp_sales</th>\n",
       "                        <td id=\"T_7b5d8_row6_col0\" class=\"data row6 col0\" >0.000000</td>\n",
       "            </tr>\n",
       "            <tr>\n",
       "                        <th id=\"T_7b5d8_level0_row7\" class=\"row_heading level0 row7\" >other_sales</th>\n",
       "                        <td id=\"T_7b5d8_row7_col0\" class=\"data row7 col0\" >0.000000</td>\n",
       "            </tr>\n",
       "            <tr>\n",
       "                        <th id=\"T_7b5d8_level0_row8\" class=\"row_heading level0 row8\" >critic_score</th>\n",
       "                        <td id=\"T_7b5d8_row8_col0\" class=\"data row8 col0\" >51.000000</td>\n",
       "            </tr>\n",
       "            <tr>\n",
       "                        <th id=\"T_7b5d8_level0_row9\" class=\"row_heading level0 row9\" >user_score</th>\n",
       "                        <td id=\"T_7b5d8_row9_col0\" class=\"data row9 col0\" >40.000000</td>\n",
       "            </tr>\n",
       "            <tr>\n",
       "                        <th id=\"T_7b5d8_level0_row10\" class=\"row_heading level0 row10\" >rating</th>\n",
       "                        <td id=\"T_7b5d8_row10_col0\" class=\"data row10 col0\" >40.000000</td>\n",
       "            </tr>\n",
       "    </tbody></table>"
      ],
      "text/plain": [
       "<pandas.io.formats.style.Styler at 0x7f28f47b9250>"
      ]
     },
     "execution_count": 6,
     "metadata": {},
     "output_type": "execute_result"
    }
   ],
   "source": [
    "# полезно визуализировать количество пропусков по столбцам с тепловой картой\n",
    "pd.DataFrame(round(data.isna().mean()*100,)).style.background_gradient('coolwarm')"
   ]
  },
  {
   "cell_type": "code",
   "execution_count": 7,
   "metadata": {},
   "outputs": [],
   "source": [
    "# функция для расчёта процента пропусков\n",
    "def nan_calculating(column):\n",
    "    quantity = data[column].isna().sum()\n",
    "    ratio = data[column].isna().sum() / len(data)\n",
    "    return print('Пропущено {}, это составляет {:.1%}'. format(quantity, ratio) + ' значений')"
   ]
  },
  {
   "cell_type": "code",
   "execution_count": 8,
   "metadata": {},
   "outputs": [
    {
     "name": "stdout",
     "output_type": "stream",
     "text": [
      "Пропущено 269, это составляет 1.6% значений\n"
     ]
    }
   ],
   "source": [
    "nan_calculating('year_of_release')"
   ]
  },
  {
   "cell_type": "markdown",
   "metadata": {},
   "source": [
    "* `name` & `genre` имеют по 2 пропуска, их можно просто удалить.  \n",
    "* `year_of_release` имеет 269 пропусков, это 1,6% от 16715 строк данных, можно удалить. Заменить ни средним, ни медианным значением нельзя, так как это увеличит показатели како-го года.  \n",
    "* `critic_score` & `user_score` являются критериями оценивания, заменить пропуски на какое-то значение нельзя, сгруппировать относительно другого столбца тоже не выйдет, оставим так.\n",
    "* `rating` - это рейтинг, который может принимать очень много категориальных значений. Пропуски можно заменить нейтральным _nothing_"
   ]
  },
  {
   "cell_type": "code",
   "execution_count": 9,
   "metadata": {},
   "outputs": [],
   "source": [
    "col_list = ['name', 'genre', 'year_of_release']\n",
    "for label in col_list:\n",
    "    data.dropna(subset=[label], inplace=True)"
   ]
  },
  {
   "cell_type": "code",
   "execution_count": 10,
   "metadata": {},
   "outputs": [
    {
     "data": {
      "text/plain": [
       "name                  0\n",
       "platform              0\n",
       "year_of_release       0\n",
       "genre                 0\n",
       "na_sales              0\n",
       "eu_sales              0\n",
       "jp_sales              0\n",
       "other_sales           0\n",
       "critic_score       8461\n",
       "user_score         6605\n",
       "rating                0\n",
       "dtype: int64"
      ]
     },
     "execution_count": 10,
     "metadata": {},
     "output_type": "execute_result"
    }
   ],
   "source": [
    "data['rating'] = data['rating'].fillna('nothing')\n",
    "data.isna().sum()"
   ]
  },
  {
   "cell_type": "code",
   "execution_count": 11,
   "metadata": {},
   "outputs": [],
   "source": [
    "# стоит обратить внимание, что в столбце user_score есть значение tbd, что означает To Be Determined, то есть это пропуск\n",
    "# заменяем значение tbd на nan\n",
    "data.loc[data['user_score'] == 'tbd','user_score'] = np.nan"
   ]
  },
  {
   "cell_type": "markdown",
   "metadata": {},
   "source": [
    "### Тип данных в столбцах"
   ]
  },
  {
   "cell_type": "code",
   "execution_count": 12,
   "metadata": {},
   "outputs": [],
   "source": [
    "# year_of_release тип данных float64 неверный, корректно использовать целочисленный int\n",
    "data['year_of_release'] = data['year_of_release'].astype('int', errors='ignore')"
   ]
  },
  {
   "cell_type": "code",
   "execution_count": 13,
   "metadata": {},
   "outputs": [
    {
     "name": "stdout",
     "output_type": "stream",
     "text": [
      "<class 'pandas.core.frame.DataFrame'>\n",
      "Int64Index: 16444 entries, 0 to 16714\n",
      "Data columns (total 11 columns):\n",
      " #   Column           Non-Null Count  Dtype  \n",
      "---  ------           --------------  -----  \n",
      " 0   name             16444 non-null  object \n",
      " 1   platform         16444 non-null  object \n",
      " 2   year_of_release  16444 non-null  int64  \n",
      " 3   genre            16444 non-null  object \n",
      " 4   na_sales         16444 non-null  float64\n",
      " 5   eu_sales         16444 non-null  float64\n",
      " 6   jp_sales         16444 non-null  float64\n",
      " 7   other_sales      16444 non-null  float64\n",
      " 8   critic_score     7983 non-null   float64\n",
      " 9   user_score       7463 non-null   float64\n",
      " 10  rating           16444 non-null  object \n",
      "dtypes: float64(6), int64(1), object(4)\n",
      "memory usage: 1.5+ MB\n"
     ]
    }
   ],
   "source": [
    "# тип данных для user_score меняем на float, как у critic_score\n",
    "data['user_score'] = data['user_score'].astype('float')\n",
    "# проверяем\n",
    "data.info()"
   ]
  },
  {
   "cell_type": "markdown",
   "metadata": {},
   "source": [
    "### Обработка дубликатов"
   ]
  },
  {
   "cell_type": "code",
   "execution_count": 14,
   "metadata": {},
   "outputs": [
    {
     "data": {
      "text/plain": [
       "0"
      ]
     },
     "execution_count": 14,
     "metadata": {},
     "output_type": "execute_result"
    }
   ],
   "source": [
    "# сразу проверяем на полные явные дубликаты\n",
    "data.duplicated().sum()"
   ]
  },
  {
   "cell_type": "markdown",
   "metadata": {},
   "source": [
    "Явных дубликатов нет, значит стоит проверять проверять уникальные значения в столбцах с потенциальными неявными дубликатами."
   ]
  },
  {
   "cell_type": "code",
   "execution_count": 15,
   "metadata": {},
   "outputs": [
    {
     "name": "stdout",
     "output_type": "stream",
     "text": [
      "[' Beyblade Burst' ' Fire Emblem Fates' \" Frozen: Olaf's Quest\" ...\n",
      " 'uDraw Studio' 'uDraw Studio: Instant Artist'\n",
      " '¡Shin Chan Flipa en colores!']\n"
     ]
    }
   ],
   "source": [
    "print(data['name'].sort_values().unique())"
   ]
  },
  {
   "cell_type": "code",
   "execution_count": 16,
   "metadata": {},
   "outputs": [
    {
     "data": {
      "text/plain": [
       "array(['2600', '3DO', '3DS', 'DC', 'DS', 'GB', 'GBA', 'GC', 'GEN', 'GG',\n",
       "       'N64', 'NES', 'NG', 'PC', 'PCFX', 'PS', 'PS2', 'PS3', 'PS4', 'PSP',\n",
       "       'PSV', 'SAT', 'SCD', 'SNES', 'TG16', 'WS', 'Wii', 'WiiU', 'X360',\n",
       "       'XB', 'XOne'], dtype=object)"
      ]
     },
     "execution_count": 16,
     "metadata": {},
     "output_type": "execute_result"
    }
   ],
   "source": [
    "data['platform'].sort_values().unique()"
   ]
  },
  {
   "cell_type": "code",
   "execution_count": 17,
   "metadata": {},
   "outputs": [
    {
     "data": {
      "text/plain": [
       "array(['Action', 'Adventure', 'Fighting', 'Misc', 'Platform', 'Puzzle',\n",
       "       'Racing', 'Role-Playing', 'Shooter', 'Simulation', 'Sports',\n",
       "       'Strategy'], dtype=object)"
      ]
     },
     "execution_count": 17,
     "metadata": {},
     "output_type": "execute_result"
    }
   ],
   "source": [
    "data['genre'].sort_values().unique()"
   ]
  },
  {
   "cell_type": "code",
   "execution_count": 18,
   "metadata": {},
   "outputs": [
    {
     "data": {
      "text/plain": [
       "array([13., 17., 19., 20., 21., 23., 24., 25., 26., 27., 28., 29., 30.,\n",
       "       31., 32., 33., 34., 35., 36., 37., 38., 39., 40., 41., 42., 43.,\n",
       "       44., 45., 46., 47., 48., 49., 50., 51., 52., 53., 54., 55., 56.,\n",
       "       57., 58., 59., 60., 61., 62., 63., 64., 65., 66., 67., 68., 69.,\n",
       "       70., 71., 72., 73., 74., 75., 76., 77., 78., 79., 80., 81., 82.,\n",
       "       83., 84., 85., 86., 87., 88., 89., 90., 91., 92., 93., 94., 95.,\n",
       "       96., 97., 98., nan])"
      ]
     },
     "execution_count": 18,
     "metadata": {},
     "output_type": "execute_result"
    }
   ],
   "source": [
    "data['critic_score'].sort_values().unique()"
   ]
  },
  {
   "cell_type": "code",
   "execution_count": 19,
   "metadata": {},
   "outputs": [
    {
     "data": {
      "text/plain": [
       "array([0. , 0.2, 0.3, 0.5, 0.6, 0.7, 0.9, 1. , 1.1, 1.2, 1.3, 1.4, 1.5,\n",
       "       1.6, 1.7, 1.8, 1.9, 2. , 2.1, 2.2, 2.3, 2.4, 2.5, 2.6, 2.7, 2.8,\n",
       "       2.9, 3. , 3.1, 3.2, 3.3, 3.4, 3.5, 3.6, 3.7, 3.8, 3.9, 4. , 4.1,\n",
       "       4.2, 4.3, 4.4, 4.5, 4.6, 4.7, 4.8, 4.9, 5. , 5.1, 5.2, 5.3, 5.4,\n",
       "       5.5, 5.6, 5.7, 5.8, 5.9, 6. , 6.1, 6.2, 6.3, 6.4, 6.5, 6.6, 6.7,\n",
       "       6.8, 6.9, 7. , 7.1, 7.2, 7.3, 7.4, 7.5, 7.6, 7.7, 7.8, 7.9, 8. ,\n",
       "       8.1, 8.2, 8.3, 8.4, 8.5, 8.6, 8.7, 8.8, 8.9, 9. , 9.1, 9.2, 9.3,\n",
       "       9.4, 9.5, 9.6, 9.7, nan])"
      ]
     },
     "execution_count": 19,
     "metadata": {},
     "output_type": "execute_result"
    }
   ],
   "source": [
    "data['user_score'].sort_values().unique()"
   ]
  },
  {
   "cell_type": "markdown",
   "metadata": {},
   "source": [
    "Среди столбцов со строковыми категориями искал скажённые варианты, их нет.  \n",
    "Среди значений с плавающей точкой искал значения с запятой, не обнаружил."
   ]
  },
  {
   "cell_type": "markdown",
   "metadata": {},
   "source": [
    "### Выводы:  \n",
    "* удалили строки с пропусками, где нельзя было из заполнить и кол-во строк было мало.\n",
    "* скорее вссего пропуски в столбцах с оценками критиков и пользователей говорят о том, что игра осталась незамеченная.\n",
    "* поменяли типы данных столбцов на корректные, где требовалось.\n",
    "* проверили на явные и неявные дубликаты."
   ]
  },
  {
   "cell_type": "markdown",
   "metadata": {},
   "source": [
    "## Исследование данных"
   ]
  },
  {
   "cell_type": "markdown",
   "metadata": {},
   "source": [
    "### Исследование популярности платформ"
   ]
  },
  {
   "cell_type": "markdown",
   "metadata": {},
   "source": [
    "Если присмотреться к списку колонок, то заметно отсуствие суммарных продаж каждой игры.\n",
    "Давайте посчитаем и добавим в отдельный столбец."
   ]
  },
  {
   "cell_type": "code",
   "execution_count": 20,
   "metadata": {},
   "outputs": [
    {
     "data": {
      "text/html": [
       "<div>\n",
       "<style scoped>\n",
       "    .dataframe tbody tr th:only-of-type {\n",
       "        vertical-align: middle;\n",
       "    }\n",
       "\n",
       "    .dataframe tbody tr th {\n",
       "        vertical-align: top;\n",
       "    }\n",
       "\n",
       "    .dataframe thead th {\n",
       "        text-align: right;\n",
       "    }\n",
       "</style>\n",
       "<table border=\"1\" class=\"dataframe\">\n",
       "  <thead>\n",
       "    <tr style=\"text-align: right;\">\n",
       "      <th></th>\n",
       "      <th>name</th>\n",
       "      <th>platform</th>\n",
       "      <th>year_of_release</th>\n",
       "      <th>genre</th>\n",
       "      <th>na_sales</th>\n",
       "      <th>eu_sales</th>\n",
       "      <th>jp_sales</th>\n",
       "      <th>other_sales</th>\n",
       "      <th>critic_score</th>\n",
       "      <th>user_score</th>\n",
       "      <th>rating</th>\n",
       "      <th>total_sales</th>\n",
       "    </tr>\n",
       "  </thead>\n",
       "  <tbody>\n",
       "    <tr>\n",
       "      <th>3993</th>\n",
       "      <td>Shrek SuperSlam</td>\n",
       "      <td>PS2</td>\n",
       "      <td>2005</td>\n",
       "      <td>Action</td>\n",
       "      <td>0.24</td>\n",
       "      <td>0.19</td>\n",
       "      <td>0.00</td>\n",
       "      <td>0.06</td>\n",
       "      <td>67.0</td>\n",
       "      <td>9.0</td>\n",
       "      <td>E10+</td>\n",
       "      <td>0.49</td>\n",
       "    </tr>\n",
       "    <tr>\n",
       "      <th>14064</th>\n",
       "      <td>Sid Meier's Railroads!</td>\n",
       "      <td>PC</td>\n",
       "      <td>2006</td>\n",
       "      <td>Simulation</td>\n",
       "      <td>0.01</td>\n",
       "      <td>0.03</td>\n",
       "      <td>0.00</td>\n",
       "      <td>0.00</td>\n",
       "      <td>NaN</td>\n",
       "      <td>NaN</td>\n",
       "      <td>nothing</td>\n",
       "      <td>0.04</td>\n",
       "    </tr>\n",
       "    <tr>\n",
       "      <th>13850</th>\n",
       "      <td>Sacred Blaze</td>\n",
       "      <td>PS2</td>\n",
       "      <td>2009</td>\n",
       "      <td>Strategy</td>\n",
       "      <td>0.00</td>\n",
       "      <td>0.00</td>\n",
       "      <td>0.04</td>\n",
       "      <td>0.00</td>\n",
       "      <td>NaN</td>\n",
       "      <td>NaN</td>\n",
       "      <td>nothing</td>\n",
       "      <td>0.04</td>\n",
       "    </tr>\n",
       "    <tr>\n",
       "      <th>16229</th>\n",
       "      <td>Dr. Slump &amp; Arale-Chan</td>\n",
       "      <td>DS</td>\n",
       "      <td>2008</td>\n",
       "      <td>Adventure</td>\n",
       "      <td>0.00</td>\n",
       "      <td>0.00</td>\n",
       "      <td>0.01</td>\n",
       "      <td>0.00</td>\n",
       "      <td>NaN</td>\n",
       "      <td>NaN</td>\n",
       "      <td>nothing</td>\n",
       "      <td>0.01</td>\n",
       "    </tr>\n",
       "    <tr>\n",
       "      <th>12297</th>\n",
       "      <td>July</td>\n",
       "      <td>DC</td>\n",
       "      <td>1998</td>\n",
       "      <td>Adventure</td>\n",
       "      <td>0.00</td>\n",
       "      <td>0.00</td>\n",
       "      <td>0.06</td>\n",
       "      <td>0.00</td>\n",
       "      <td>NaN</td>\n",
       "      <td>NaN</td>\n",
       "      <td>nothing</td>\n",
       "      <td>0.06</td>\n",
       "    </tr>\n",
       "  </tbody>\n",
       "</table>\n",
       "</div>"
      ],
      "text/plain": [
       "                         name platform  year_of_release       genre  na_sales  \\\n",
       "3993          Shrek SuperSlam      PS2             2005      Action      0.24   \n",
       "14064  Sid Meier's Railroads!       PC             2006  Simulation      0.01   \n",
       "13850            Sacred Blaze      PS2             2009    Strategy      0.00   \n",
       "16229  Dr. Slump & Arale-Chan       DS             2008   Adventure      0.00   \n",
       "12297                    July       DC             1998   Adventure      0.00   \n",
       "\n",
       "       eu_sales  jp_sales  other_sales  critic_score  user_score   rating  \\\n",
       "3993       0.19      0.00         0.06          67.0         9.0     E10+   \n",
       "14064      0.03      0.00         0.00           NaN         NaN  nothing   \n",
       "13850      0.00      0.04         0.00           NaN         NaN  nothing   \n",
       "16229      0.00      0.01         0.00           NaN         NaN  nothing   \n",
       "12297      0.00      0.06         0.00           NaN         NaN  nothing   \n",
       "\n",
       "       total_sales  \n",
       "3993          0.49  \n",
       "14064         0.04  \n",
       "13850         0.04  \n",
       "16229         0.01  \n",
       "12297         0.06  "
      ]
     },
     "execution_count": 20,
     "metadata": {},
     "output_type": "execute_result"
    }
   ],
   "source": [
    "data['total_sales'] = 0\n",
    "reg_sales = ['na_sales', 'eu_sales', 'jp_sales', 'other_sales']\n",
    "for reg in reg_sales:\n",
    "    data['total_sales'] += data[reg]\n",
    "    \n",
    "# сразу посмотрим, что получилось\n",
    "data.sample(5)"
   ]
  },
  {
   "cell_type": "markdown",
   "metadata": {},
   "source": [
    "Посмотрим на распределение игр относительно года, то есть узнаем, сколько игр выпускалось от года к году."
   ]
  },
  {
   "cell_type": "code",
   "execution_count": 21,
   "metadata": {},
   "outputs": [
    {
     "data": {
      "image/png": "[encoded data removed]",
      "text/plain": [
       "<Figure size 648x432 with 1 Axes>"
      ]
     },
     "metadata": {
      "needs_background": "light"
     },
     "output_type": "display_data"
    }
   ],
   "source": [
    "data['year_of_release'].plot(\n",
    "    kind='hist',\n",
    "    bins=40,\n",
    "    grid=True,\n",
    "    figsize=(9,6),\n",
    "    title='Распределение выпускаемых игр по годам');"
   ]
  },
  {
   "cell_type": "markdown",
   "metadata": {},
   "source": [
    "Заметно, что после 1995 года начался бурный рост количества выппускаемых игр, то есть распределение смещено вправо.  \n",
    "Так как нам нужно спрогнозировать показатели в 2017 году, то я предполагаю, что показатели 1980-1995 годов можно не учитывать."
   ]
  },
  {
   "cell_type": "markdown",
   "metadata": {},
   "source": [
    "Попробуем оценить популярность платформ по общему количеству проданных на ней игр за всё время."
   ]
  },
  {
   "cell_type": "code",
   "execution_count": 22,
   "metadata": {},
   "outputs": [
    {
     "data": {
      "text/html": [
       "<div>\n",
       "<style scoped>\n",
       "    .dataframe tbody tr th:only-of-type {\n",
       "        vertical-align: middle;\n",
       "    }\n",
       "\n",
       "    .dataframe tbody tr th {\n",
       "        vertical-align: top;\n",
       "    }\n",
       "\n",
       "    .dataframe thead th {\n",
       "        text-align: right;\n",
       "    }\n",
       "</style>\n",
       "<table border=\"1\" class=\"dataframe\">\n",
       "  <thead>\n",
       "    <tr style=\"text-align: right;\">\n",
       "      <th></th>\n",
       "      <th>total_sales</th>\n",
       "    </tr>\n",
       "    <tr>\n",
       "      <th>platform</th>\n",
       "      <th></th>\n",
       "    </tr>\n",
       "  </thead>\n",
       "  <tbody>\n",
       "    <tr>\n",
       "      <th>PS2</th>\n",
       "      <td>1233.56</td>\n",
       "    </tr>\n",
       "    <tr>\n",
       "      <th>X360</th>\n",
       "      <td>961.24</td>\n",
       "    </tr>\n",
       "    <tr>\n",
       "      <th>PS3</th>\n",
       "      <td>931.34</td>\n",
       "    </tr>\n",
       "    <tr>\n",
       "      <th>Wii</th>\n",
       "      <td>891.18</td>\n",
       "    </tr>\n",
       "    <tr>\n",
       "      <th>DS</th>\n",
       "      <td>802.78</td>\n",
       "    </tr>\n",
       "    <tr>\n",
       "      <th>PS</th>\n",
       "      <td>727.58</td>\n",
       "    </tr>\n",
       "    <tr>\n",
       "      <th>PS4</th>\n",
       "      <td>314.14</td>\n",
       "    </tr>\n",
       "    <tr>\n",
       "      <th>GBA</th>\n",
       "      <td>312.88</td>\n",
       "    </tr>\n",
       "    <tr>\n",
       "      <th>PSP</th>\n",
       "      <td>289.53</td>\n",
       "    </tr>\n",
       "    <tr>\n",
       "      <th>3DS</th>\n",
       "      <td>257.81</td>\n",
       "    </tr>\n",
       "    <tr>\n",
       "      <th>PC</th>\n",
       "      <td>255.76</td>\n",
       "    </tr>\n",
       "    <tr>\n",
       "      <th>GB</th>\n",
       "      <td>254.43</td>\n",
       "    </tr>\n",
       "    <tr>\n",
       "      <th>XB</th>\n",
       "      <td>251.57</td>\n",
       "    </tr>\n",
       "    <tr>\n",
       "      <th>NES</th>\n",
       "      <td>251.05</td>\n",
       "    </tr>\n",
       "    <tr>\n",
       "      <th>N64</th>\n",
       "      <td>218.01</td>\n",
       "    </tr>\n",
       "    <tr>\n",
       "      <th>SNES</th>\n",
       "      <td>200.04</td>\n",
       "    </tr>\n",
       "    <tr>\n",
       "      <th>GC</th>\n",
       "      <td>196.73</td>\n",
       "    </tr>\n",
       "    <tr>\n",
       "      <th>XOne</th>\n",
       "      <td>159.32</td>\n",
       "    </tr>\n",
       "    <tr>\n",
       "      <th>2600</th>\n",
       "      <td>86.48</td>\n",
       "    </tr>\n",
       "    <tr>\n",
       "      <th>WiiU</th>\n",
       "      <td>82.19</td>\n",
       "    </tr>\n",
       "    <tr>\n",
       "      <th>PSV</th>\n",
       "      <td>53.81</td>\n",
       "    </tr>\n",
       "    <tr>\n",
       "      <th>SAT</th>\n",
       "      <td>33.59</td>\n",
       "    </tr>\n",
       "    <tr>\n",
       "      <th>GEN</th>\n",
       "      <td>28.35</td>\n",
       "    </tr>\n",
       "    <tr>\n",
       "      <th>DC</th>\n",
       "      <td>15.95</td>\n",
       "    </tr>\n",
       "    <tr>\n",
       "      <th>SCD</th>\n",
       "      <td>1.86</td>\n",
       "    </tr>\n",
       "    <tr>\n",
       "      <th>NG</th>\n",
       "      <td>1.44</td>\n",
       "    </tr>\n",
       "    <tr>\n",
       "      <th>WS</th>\n",
       "      <td>1.42</td>\n",
       "    </tr>\n",
       "    <tr>\n",
       "      <th>TG16</th>\n",
       "      <td>0.16</td>\n",
       "    </tr>\n",
       "    <tr>\n",
       "      <th>3DO</th>\n",
       "      <td>0.10</td>\n",
       "    </tr>\n",
       "    <tr>\n",
       "      <th>GG</th>\n",
       "      <td>0.04</td>\n",
       "    </tr>\n",
       "    <tr>\n",
       "      <th>PCFX</th>\n",
       "      <td>0.03</td>\n",
       "    </tr>\n",
       "  </tbody>\n",
       "</table>\n",
       "</div>"
      ],
      "text/plain": [
       "          total_sales\n",
       "platform             \n",
       "PS2           1233.56\n",
       "X360           961.24\n",
       "PS3            931.34\n",
       "Wii            891.18\n",
       "DS             802.78\n",
       "PS             727.58\n",
       "PS4            314.14\n",
       "GBA            312.88\n",
       "PSP            289.53\n",
       "3DS            257.81\n",
       "PC             255.76\n",
       "GB             254.43\n",
       "XB             251.57\n",
       "NES            251.05\n",
       "N64            218.01\n",
       "SNES           200.04\n",
       "GC             196.73\n",
       "XOne           159.32\n",
       "2600            86.48\n",
       "WiiU            82.19\n",
       "PSV             53.81\n",
       "SAT             33.59\n",
       "GEN             28.35\n",
       "DC              15.95\n",
       "SCD              1.86\n",
       "NG               1.44\n",
       "WS               1.42\n",
       "TG16             0.16\n",
       "3DO              0.10\n",
       "GG               0.04\n",
       "PCFX             0.03"
      ]
     },
     "execution_count": 22,
     "metadata": {},
     "output_type": "execute_result"
    }
   ],
   "source": [
    "# построим сводную таблицу \n",
    "sales_by_platforms =data.pivot_table(\n",
    "                                 index = ['platform'], \n",
    "                                 values = ['total_sales'],\n",
    "                                 aggfunc =  ['sum'])\n",
    "# переименуем колонки\n",
    "sales_by_platforms.columns = ['total_sales']\n",
    "# посмотрим на результат\n",
    "sales_by_platforms.sort_values(('total_sales'), ascending=False)"
   ]
  },
  {
   "cell_type": "markdown",
   "metadata": {},
   "source": [
    "Видно, что первые 6 платформ значительно отрываются по продажам от всех остальных, в частности, разрыв между 6 и 7 местом двухкратный. Однако важно понимать, что первые 6 плаформ уже \"мертвы\", для них уже несколько лет до 2017 не издаются и не продаются игры.  \n",
    "Получается, что нужно понимание о времени жизни платформ, какие платформы актуальны и популярны."
   ]
  },
  {
   "cell_type": "code",
   "execution_count": 23,
   "metadata": {},
   "outputs": [
    {
     "data": {
      "image/png": "[encoded data removed]",
      "text/plain": [
       "<Figure size 1440x720 with 1 Axes>"
      ]
     },
     "metadata": {
      "needs_background": "light"
     },
     "output_type": "display_data"
    }
   ],
   "source": [
    "# сделаем сводную таблицу и визуализируем её в виде графика\n",
    "data.pivot_table(\n",
    "    index='year_of_release',\n",
    "    columns='platform',\n",
    "    values='total_sales',\n",
    "    aggfunc='sum'\n",
    ").sort_values(\n",
    "    by='year_of_release',\n",
    "    ascending=True\n",
    ").plot(\n",
    "    grid=True,\n",
    "    figsize=(20,10),\n",
    "    xlabel='Год выхода',\n",
    "    ylabel='Кол-во проданных игр',\n",
    "    title='Популярность платформ по годам'\n",
    ");"
   ]
  },
  {
   "cell_type": "markdown",
   "metadata": {},
   "source": [
    "По графикам видно, что цикл жизни популярных платформ составляет около 8-10 лет, тогда для предсказаний показателей на 2017 год лучше всего подходит интервал для анализа за 2006-2016 года.  \n",
    "Согласно полученным рекомендациям: игровая индустрия - динамичная отрасль, лучше использовать данные за 2-3 года до необходиомго. В 2016 неполные данные, значит берём данные за 2013-2016 года.\n",
    "Перестроим график выше под указанный диапазон."
   ]
  },
  {
   "cell_type": "code",
   "execution_count": 24,
   "metadata": {},
   "outputs": [
    {
     "data": {
      "image/png": "[encoded data removed]",
      "text/plain": [
       "<Figure size 1440x720 with 1 Axes>"
      ]
     },
     "metadata": {
      "needs_background": "light"
     },
     "output_type": "display_data"
    }
   ],
   "source": [
    "data.query('year_of_release >= 2013').pivot_table(\n",
    "    index='year_of_release',\n",
    "    columns='platform',\n",
    "    values='total_sales',\n",
    "    aggfunc='sum'\n",
    ").sort_values(\n",
    "    by='year_of_release',\n",
    "    ascending=True\n",
    ").plot(\n",
    "    grid=True,\n",
    "    figsize=(20,10),\n",
    "    xlabel='Год выхода',\n",
    "    ylabel='Кол-во проданных игр',\n",
    "    title='Популярность платформ по годам'\n",
    ");"
   ]
  },
  {
   "cell_type": "markdown",
   "metadata": {},
   "source": [
    "Видно, что:  \n",
    "* PS3, X360 отживают свой век, а PS4 и XOne на пике популярности.\n",
    "* PC показывает стабильный уровень продаж игр.\n",
    "* PSP сменилась PSV, одновременно появилась 3DS, но это всё мобильные платформы, для них ведётся отдельная разработка нишевых проектов. \n",
    "* Wii/WiiU также можно отнести к очень нишевым платформам, не имеющих широкого признания в мире.\n",
    "\n",
    "Нужно выделить отдельный датафрейм, содержащий только актуальные данные."
   ]
  },
  {
   "cell_type": "code",
   "execution_count": 25,
   "metadata": {},
   "outputs": [
    {
     "name": "stdout",
     "output_type": "stream",
     "text": [
      "<class 'pandas.core.frame.DataFrame'>\n",
      "Int64Index: 2233 entries, 16 to 16714\n",
      "Data columns (total 12 columns):\n",
      " #   Column           Non-Null Count  Dtype  \n",
      "---  ------           --------------  -----  \n",
      " 0   name             2233 non-null   object \n",
      " 1   platform         2233 non-null   object \n",
      " 2   year_of_release  2233 non-null   int64  \n",
      " 3   genre            2233 non-null   object \n",
      " 4   na_sales         2233 non-null   float64\n",
      " 5   eu_sales         2233 non-null   float64\n",
      " 6   jp_sales         2233 non-null   float64\n",
      " 7   other_sales      2233 non-null   float64\n",
      " 8   critic_score     991 non-null    float64\n",
      " 9   user_score       1192 non-null   float64\n",
      " 10  rating           2233 non-null   object \n",
      " 11  total_sales      2233 non-null   float64\n",
      "dtypes: float64(7), int64(1), object(4)\n",
      "memory usage: 226.8+ KB\n"
     ]
    }
   ],
   "source": [
    "actual_df = data.query('year_of_release >= 2013')\n",
    "# сразу посмотрим, инф-ю о нём\n",
    "actual_df.info()"
   ]
  },
  {
   "cell_type": "code",
   "execution_count": 26,
   "metadata": {},
   "outputs": [
    {
     "data": {
      "image/png": "[encoded data removed]",
      "text/plain": [
       "<Figure size 864x648 with 1 Axes>"
      ]
     },
     "metadata": {
      "needs_background": "light"
     },
     "output_type": "display_data"
    }
   ],
   "source": [
    "# строим график boxplot по глобальным продажам игр в разбивке по платформам\n",
    "actual_df.boxplot(column=['total_sales'], by=['platform'], figsize=(12,9))\n",
    "plt.ylim([0, 1.75])\n",
    "plt.show()"
   ]
  },
  {
   "cell_type": "markdown",
   "metadata": {},
   "source": [
    "#### Выводы:  \n",
    "* Самые популярные платформы: PS3 & X360;\n",
    "* Перспетивные платформы: PS4 & XOne;\n",
    "* Платформы Wii & WiiU занимаются нишевыми продуктами."
   ]
  },
  {
   "cell_type": "markdown",
   "metadata": {},
   "source": [
    "### Исследование влияния отзывов"
   ]
  },
  {
   "cell_type": "markdown",
   "metadata": {},
   "source": [
    "Для исследования влияния отзывов важно, чтобы это была популярная платформа, так как в 2016 году имеются пропуски в данных, то лучше выбрать платформу, которую это не касается.  \n",
    "Я фанат PS, поэтому выбираю PS3 для дальнейшего анализа."
   ]
  },
  {
   "cell_type": "code",
   "execution_count": 27,
   "metadata": {},
   "outputs": [
    {
     "data": {
      "image/png": "[encoded data removed]",
      "text/plain": [
       "<Figure size 576x576 with 1 Axes>"
      ]
     },
     "metadata": {
      "needs_background": "light"
     },
     "output_type": "display_data"
    },
    {
     "name": "stdout",
     "output_type": "stream",
     "text": [
      "Корреляция продаж и оценок пользователей: \n",
      "\n",
      "             total_sales  user_score\n",
      "total_sales     1.000000    0.002394\n",
      "user_score      0.002394    1.000000 \n",
      "\n"
     ]
    }
   ],
   "source": [
    "# проверяем корреляцию продаж и отзывов пользователей\n",
    "#ps3_df = actual_df.query('platform == \"PS3\"')\n",
    "actual_df.query('platform == \"PS3\"').pivot_table(\n",
    "    index='user_score', \n",
    "    values='total_sales'\n",
    ").plot(\n",
    "    grid=True, \n",
    "    style='o', \n",
    "    figsize=(8, 8), \n",
    "    alpha=0.3,\n",
    "    title='PS3. Корреляция между общим кол-ом продаж и оценками пользователей',\n",
    "    xlabel='Оценки пользователей',\n",
    "    ylabel='Кол-во продаж'\n",
    ")\n",
    "plt.show()\n",
    "print('Корреляция продаж и оценок пользователей:','\\n')\n",
    "print(actual_df.query('platform == \"PS3\"').pivot_table(index='name', values=['user_score', 'total_sales']).corr(),'\\n')"
   ]
  },
  {
   "cell_type": "markdown",
   "metadata": {},
   "source": [
    "Как видно выше, имеется очень слабая прямая корреляция."
   ]
  },
  {
   "cell_type": "code",
   "execution_count": 28,
   "metadata": {},
   "outputs": [
    {
     "data": {
      "image/png": "[encoded data removed]",
      "text/plain": [
       "<Figure size 576x576 with 1 Axes>"
      ]
     },
     "metadata": {
      "needs_background": "light"
     },
     "output_type": "display_data"
    },
    {
     "name": "stdout",
     "output_type": "stream",
     "text": [
      "Корреляция продаж и оценок критиков: \n",
      "\n",
      "              critic_score  total_sales\n",
      "critic_score      1.000000     0.334285\n",
      "total_sales       0.334285     1.000000 \n",
      "\n"
     ]
    }
   ],
   "source": [
    "# проверяем корреляцию продаж и отзывов критиков\n",
    "actual_df.query('platform == \"PS3\"').pivot_table(\n",
    "    index='critic_score', \n",
    "    values='total_sales'\n",
    ").plot(\n",
    "    grid=True, \n",
    "    style='o', \n",
    "    figsize=(8, 8), \n",
    "    alpha=0.3,\n",
    "    title='PS3. Корреляция между общим кол-ом продаж и оценками критиков',\n",
    "    xlabel='Оценки критиков',\n",
    "    ylabel='Кол-во продаж'\n",
    ")\n",
    "plt.show()\n",
    "print('Корреляция продаж и оценок критиков:','\\n')\n",
    "print(actual_df.query('platform == \"PS3\"').pivot_table(index='name', values=['critic_score', 'total_sales']).corr(),'\\n')"
   ]
  },
  {
   "cell_type": "markdown",
   "metadata": {},
   "source": [
    " Имеется слабая прямая корреляция, больше, чем у отзывов пользователей, но недостаточная, чтобы одназначно утверждать.  \n",
    " Необходимо проверить для других популярных платформ: X360, PS4, XOne."
   ]
  },
  {
   "cell_type": "code",
   "execution_count": 29,
   "metadata": {},
   "outputs": [
    {
     "name": "stdout",
     "output_type": "stream",
     "text": [
      "X360. Корреляция продаж и оценок пользователей: \n",
      "\n",
      "             total_sales  user_score\n",
      "total_sales     1.000000   -0.011742\n",
      "user_score     -0.011742    1.000000 \n",
      "\n",
      "X360. Корреляция продаж и оценок критиков: \n",
      "\n",
      "              critic_score  total_sales\n",
      "critic_score      1.000000     0.350345\n",
      "total_sales       0.350345     1.000000 \n",
      "\n",
      "PS4. Корреляция продаж и оценок пользователей: \n",
      "\n",
      "             total_sales  user_score\n",
      "total_sales     1.000000   -0.031957\n",
      "user_score     -0.031957    1.000000 \n",
      "\n",
      "PS4. Корреляция продаж и оценок критиков: \n",
      "\n",
      "              critic_score  total_sales\n",
      "critic_score      1.000000     0.406568\n",
      "total_sales       0.406568     1.000000 \n",
      "\n",
      "XOne. Корреляция продаж и оценок пользователей: \n",
      "\n",
      "             total_sales  user_score\n",
      "total_sales     1.000000   -0.068925\n",
      "user_score     -0.068925    1.000000 \n",
      "\n",
      "XOne. Корреляция продаж и оценок критиков: \n",
      "\n",
      "              critic_score  total_sales\n",
      "critic_score      1.000000     0.416998\n",
      "total_sales       0.416998     1.000000 \n",
      "\n"
     ]
    }
   ],
   "source": [
    "print('X360. Корреляция продаж и оценок пользователей:','\\n')\n",
    "print(actual_df.query('platform == \"X360\"').pivot_table(index='name', values=['user_score', 'total_sales']).corr(),'\\n')\n",
    "print('X360. Корреляция продаж и оценок критиков:','\\n')\n",
    "print(actual_df.query('platform == \"X360\"').pivot_table(index='name', values=['critic_score', 'total_sales']).corr(),'\\n')\n",
    "print('PS4. Корреляция продаж и оценок пользователей:','\\n')\n",
    "print(actual_df.query('platform == \"PS4\"').pivot_table(index='name', values=['user_score', 'total_sales']).corr(),'\\n')\n",
    "print('PS4. Корреляция продаж и оценок критиков:','\\n')\n",
    "print(actual_df.query('platform == \"PS4\"').pivot_table(index='name', values=['critic_score', 'total_sales']).corr(),'\\n')\n",
    "print('XOne. Корреляция продаж и оценок пользователей:','\\n')\n",
    "print(actual_df.query('platform == \"XOne\"').pivot_table(index='name', values=['user_score', 'total_sales']).corr(),'\\n')\n",
    "print('XOne. Корреляция продаж и оценок критиков:','\\n')\n",
    "print(actual_df.query('platform == \"XOne\"').pivot_table(index='name', values=['critic_score', 'total_sales']).corr(),'\\n')"
   ]
  },
  {
   "cell_type": "markdown",
   "metadata": {},
   "source": [
    "#### Вывод:\n",
    "Для всех основных платформ наблюдается одинаковая ситуация: пользовательские отзывы не оказывают никакого влияния на кол-во продажи, а положительные отзывы критиков, возможно, немного увеличивают продажи, но не удалось найти данных доказывающих сильную корреляцию."
   ]
  },
  {
   "cell_type": "markdown",
   "metadata": {},
   "source": [
    "### Исследование влияния жанра"
   ]
  },
  {
   "cell_type": "code",
   "execution_count": 30,
   "metadata": {},
   "outputs": [
    {
     "data": {
      "text/html": [
       "<div>\n",
       "<style scoped>\n",
       "    .dataframe tbody tr th:only-of-type {\n",
       "        vertical-align: middle;\n",
       "    }\n",
       "\n",
       "    .dataframe tbody tr th {\n",
       "        vertical-align: top;\n",
       "    }\n",
       "\n",
       "    .dataframe thead th {\n",
       "        text-align: right;\n",
       "    }\n",
       "</style>\n",
       "<table border=\"1\" class=\"dataframe\">\n",
       "  <thead>\n",
       "    <tr style=\"text-align: right;\">\n",
       "      <th></th>\n",
       "      <th>total_sales</th>\n",
       "    </tr>\n",
       "    <tr>\n",
       "      <th>genre</th>\n",
       "      <th></th>\n",
       "    </tr>\n",
       "  </thead>\n",
       "  <tbody>\n",
       "    <tr>\n",
       "      <th>Action</th>\n",
       "      <td>1716.52</td>\n",
       "    </tr>\n",
       "    <tr>\n",
       "      <th>Sports</th>\n",
       "      <td>1309.67</td>\n",
       "    </tr>\n",
       "    <tr>\n",
       "      <th>Shooter</th>\n",
       "      <td>1041.36</td>\n",
       "    </tr>\n",
       "    <tr>\n",
       "      <th>Role-Playing</th>\n",
       "      <td>931.08</td>\n",
       "    </tr>\n",
       "    <tr>\n",
       "      <th>Platform</th>\n",
       "      <td>825.55</td>\n",
       "    </tr>\n",
       "    <tr>\n",
       "      <th>Misc</th>\n",
       "      <td>790.29</td>\n",
       "    </tr>\n",
       "    <tr>\n",
       "      <th>Racing</th>\n",
       "      <td>723.49</td>\n",
       "    </tr>\n",
       "    <tr>\n",
       "      <th>Fighting</th>\n",
       "      <td>442.66</td>\n",
       "    </tr>\n",
       "    <tr>\n",
       "      <th>Simulation</th>\n",
       "      <td>387.96</td>\n",
       "    </tr>\n",
       "    <tr>\n",
       "      <th>Puzzle</th>\n",
       "      <td>239.89</td>\n",
       "    </tr>\n",
       "    <tr>\n",
       "      <th>Adventure</th>\n",
       "      <td>233.33</td>\n",
       "    </tr>\n",
       "    <tr>\n",
       "      <th>Strategy</th>\n",
       "      <td>172.57</td>\n",
       "    </tr>\n",
       "  </tbody>\n",
       "</table>\n",
       "</div>"
      ],
      "text/plain": [
       "              total_sales\n",
       "genre                    \n",
       "Action            1716.52\n",
       "Sports            1309.67\n",
       "Shooter           1041.36\n",
       "Role-Playing       931.08\n",
       "Platform           825.55\n",
       "Misc               790.29\n",
       "Racing             723.49\n",
       "Fighting           442.66\n",
       "Simulation         387.96\n",
       "Puzzle             239.89\n",
       "Adventure          233.33\n",
       "Strategy           172.57"
      ]
     },
     "execution_count": 30,
     "metadata": {},
     "output_type": "execute_result"
    }
   ],
   "source": [
    "# построим сводную таблицу \n",
    "sales_by_platforms =data.pivot_table(\n",
    "                                 index = ['genre'], \n",
    "                                 values = ['total_sales'],\n",
    "                                 aggfunc =  ['sum'])\n",
    "# переименуем колонки\n",
    "sales_by_platforms.columns = ['total_sales']\n",
    "# посмотрим на топ результат\n",
    "sales_by_platforms.sort_values(('total_sales'), ascending=False)"
   ]
  },
  {
   "cell_type": "code",
   "execution_count": 31,
   "metadata": {},
   "outputs": [
    {
     "data": {
      "image/png": "[encoded data removed]",
      "text/plain": [
       "<Figure size 864x648 with 1 Axes>"
      ]
     },
     "metadata": {
      "needs_background": "light"
     },
     "output_type": "display_data"
    }
   ],
   "source": [
    "# строим график boxplot по глобальным продажам игр в разбивке по жанрам\n",
    "actual_df.boxplot(column=['total_sales'], by=['genre'], figsize=(12,9))\n",
    "plt.ylim([0, 2])\n",
    "plt.show()"
   ]
  },
  {
   "cell_type": "markdown",
   "metadata": {},
   "source": [
    "#### Выводы:  \n",
    "На графике видно, что у жанра Action много выбросов, то есть проектов, заработавших большие деньги, но третий квартиль у него лежит ниже, чем у многих других.  \n",
    "Самое высоко медианное значение у жанра Shooter, затем идут Platform и Sports соответственно. "
   ]
  },
  {
   "cell_type": "markdown",
   "metadata": {},
   "source": [
    "\n",
    "<div class=\"alert alert-success\">\n",
    "<b>Комментарий ревьюера:</b>☀️Именно так. Общие продажи - плохая метрика для поиска наиболее прибыльного жанра. За высокими показателями общих продаж может скрываться множество мелких игр с низкими продажами. Или 2-3 звезды и куча провалов. Лучше найти жанр, где игры стабильно приносят высокий доход - для этого и стоит рассматривать средние или медианные продажи. По медианным продажам ты верно увидел, что лидирует Shooter</div>"
   ]
  },
  {
   "cell_type": "markdown",
   "metadata": {},
   "source": [
    "### Исследование портрета пользователя по регионам"
   ]
  },
  {
   "cell_type": "markdown",
   "metadata": {},
   "source": [
    "Из имеющихся данных в датасете, пригодными для формирования пользователя являются: платформа, жанр и рейтинг.\n",
    "На основании указанных признаков и будем составлять портрет для каждого региона."
   ]
  },
  {
   "cell_type": "code",
   "execution_count": 32,
   "metadata": {},
   "outputs": [
    {
     "data": {
      "image/png": "[encoded data removed]",
      "text/plain": [
       "<Figure size 432x288 with 1 Axes>"
      ]
     },
     "metadata": {
      "needs_background": "light"
     },
     "output_type": "display_data"
    },
    {
     "data": {
      "image/png": "[encoded data removed]",
      "text/plain": [
       "<Figure size 432x288 with 1 Axes>"
      ]
     },
     "metadata": {
      "needs_background": "light"
     },
     "output_type": "display_data"
    },
    {
     "data": {
      "image/png": "[encoded data removed]",
      "text/plain": [
       "<Figure size 432x288 with 1 Axes>"
      ]
     },
     "metadata": {
      "needs_background": "light"
     },
     "output_type": "display_data"
    }
   ],
   "source": [
    "# группируем платформы по регионам и выводим топ 5 по продажам\n",
    "main_reg_sales = ['na_sales', 'eu_sales', 'jp_sales']\n",
    "for reg in main_reg_sales:\n",
    "    actual_df.groupby(by='platform').agg({reg:'sum'}).sort_values(by=reg, ascending=False).head(5).plot(kind='bar')\n",
    "plt.show()"
   ]
  },
  {
   "cell_type": "code",
   "execution_count": 33,
   "metadata": {},
   "outputs": [
    {
     "data": {
      "image/png": "[encoded data removed]",
      "text/plain": [
       "<Figure size 432x288 with 1 Axes>"
      ]
     },
     "metadata": {
      "needs_background": "light"
     },
     "output_type": "display_data"
    },
    {
     "data": {
      "image/png": "[encoded data removed]",
      "text/plain": [
       "<Figure size 432x288 with 1 Axes>"
      ]
     },
     "metadata": {
      "needs_background": "light"
     },
     "output_type": "display_data"
    },
    {
     "data": {
      "image/png": "[encoded data removed]",
      "text/plain": [
       "<Figure size 432x288 with 1 Axes>"
      ]
     },
     "metadata": {
      "needs_background": "light"
     },
     "output_type": "display_data"
    }
   ],
   "source": [
    "# группируем жанры по регионам и выводим топ 5 по продажам\n",
    "main_reg_sales = ['na_sales', 'eu_sales', 'jp_sales']\n",
    "for reg in main_reg_sales:\n",
    "    actual_df.groupby(by='genre').agg({reg:'sum'}).sort_values(by=reg, ascending=False).head(5).plot(kind='bar')\n",
    "plt.show()"
   ]
  },
  {
   "cell_type": "code",
   "execution_count": 34,
   "metadata": {},
   "outputs": [
    {
     "data": {
      "image/png": "[encoded data removed]",
      "text/plain": [
       "<Figure size 432x288 with 1 Axes>"
      ]
     },
     "metadata": {
      "needs_background": "light"
     },
     "output_type": "display_data"
    },
    {
     "data": {
      "image/png": "[encoded data removed]",
      "text/plain": [
       "<Figure size 432x288 with 1 Axes>"
      ]
     },
     "metadata": {
      "needs_background": "light"
     },
     "output_type": "display_data"
    },
    {
     "data": {
      "image/png": "[encoded data removed]",
      "text/plain": [
       "<Figure size 432x288 with 1 Axes>"
      ]
     },
     "metadata": {
      "needs_background": "light"
     },
     "output_type": "display_data"
    }
   ],
   "source": [
    "# группируем рейтинг по регионам и выводим топ 5 по продажам\n",
    "main_reg_sales = ['na_sales', 'eu_sales', 'jp_sales']\n",
    "for reg in main_reg_sales:\n",
    "    actual_df.groupby(by='rating').agg({reg:'sum'}).sort_values(by=reg, ascending=False).head(5).plot(kind='bar')\n",
    "plt.show()"
   ]
  },
  {
   "cell_type": "markdown",
   "metadata": {},
   "source": [
    "#### Выводы:  \n",
    "  1) Для пользователя Северной Америки свойственно дома иметь PS4, на втором месте XBox One играть в Action-игры с рейтингом M, подходит для лиц старше 17 лет. Этот рейтинг используется, когда насилие становится реалистичным и похожим на реальную жизнь. Также может присутствовать ненормативная лексика, употребление табака, алкоголя или запрещенных наркотиков.  \n",
    "  2) Пользователь из Евросоюза предпочитает PS4, играет в Action-игры с рейтингом M.  \n",
    "  3) Люборытно, что между пользователями из СА и ЕС разница состоит в запасной в платформе: у СА на втором месте XBox One, у ЕС - PS3.    \n",
    "  4) Японский пользователь предпочитает платформы от Nintendo (DS & 3DS), играет в игры жанра Role-Playing. По рейтингу информации нет, возможно, потому что деятельность организации Entertainment Software Rating Board (ESRB) не распространяется на Японию. В целом, японские пользователи знамениты своей поддержкой внутреннего рынка, там могут выходить игры, не получающие международного рейтинга и не представленные в остальном мире."
   ]
  },
  {
   "cell_type": "markdown",
   "metadata": {},
   "source": [
    "### Проверка гипотез"
   ]
  },
  {
   "cell_type": "markdown",
   "metadata": {},
   "source": [
    "#### Гипотеза 1  \n",
    "\n",
    "**Средние пользовательские рейтинги платформ Xbox One и PC одинаковые**\n",
    "\n",
    "Необходимо сформулировать нулевую и анльтернативную гипотезы, например:\n",
    "\n",
    "    Н0: Средний пользовательский рейтинг платформ Xbox One и PC одинаковый\n",
    "    H1: Средний пользовательский рейтинг платформ Xbox One и PC различается\n",
    "\n",
    "Так как наши выборки независимы между собой будем использовать t-критерий Стьюдента"
   ]
  },
  {
   "cell_type": "code",
   "execution_count": 35,
   "metadata": {},
   "outputs": [
    {
     "name": "stdout",
     "output_type": "stream",
     "text": [
      "p-значение: 0.14012658403611647\n",
      "Не получилось отвергнуть нулевую гипотезу\n"
     ]
    }
   ],
   "source": [
    "# сразу определяемся с показателем критичности, alpha\n",
    "alpha = 0.05\n",
    "\n",
    "# для упрощения записи вынесем данные с оценками по каждой платформе в отдельную переменную\n",
    "xone_score = actual_df[(actual_df['platform'] == 'XOne') & (actual_df['user_score'] > 0)]['user_score']\n",
    "pc_score = actual_df[(actual_df['platform'] == 'PC') & (actual_df['user_score'] > 0)]['user_score']\n",
    "\n",
    "# тест Стьюдента\n",
    "results = st.ttest_ind(xone_score, pc_score)\n",
    "\n",
    "# оцениваем результат\n",
    "print('p-значение:', results.pvalue)\n",
    "\n",
    "if (results.pvalue < alpha):\n",
    "    print(\"Отвергаем нулевую гипотезу\")\n",
    "else:\n",
    "    print(\"Не получилось отвергнуть нулевую гипотезу\")"
   ]
  },
  {
   "cell_type": "markdown",
   "metadata": {},
   "source": [
    "##### Вывод:  \n",
    "отсуствует статистически значимая разница между средним пользовательским рейтингом у Xbox One & PC."
   ]
  },
  {
   "cell_type": "markdown",
   "metadata": {},
   "source": [
    "#### Гипотеза 2  \n",
    "\n",
    "**Средние пользовательские рейтинги жанров Action (англ. «действие», экшен-игры) и Sports (англ. «спортивные соревнования») разные**\n",
    "\n",
    "Необходимо сформулировать нулевую и анльтернативную гипотезы, например:\n",
    "    \n",
    "    H0: Средние пользовательские рейтинги жанров Action и Sports равны\n",
    "    H1: Средние пользовательские рейтинги жанров Action и Sports различаются\n",
    "\n",
    "Вновь применяем t-критерий Стьюдента"
   ]
  },
  {
   "cell_type": "code",
   "execution_count": 36,
   "metadata": {},
   "outputs": [
    {
     "name": "stdout",
     "output_type": "stream",
     "text": [
      "p-значение: 1.0517832389140023e-27\n",
      "Отвергаем нулевую гипотезу\n"
     ]
    }
   ],
   "source": [
    "# сразу определяемся с показателем критичности, alpha\n",
    "alpha = 0.05\n",
    "\n",
    "# для упрощения записи вынесем данные с оценками по каждой платформе в отдельную переменную\n",
    "action_score = actual_df[(actual_df['genre'] == 'Action') & (actual_df['user_score'] > 0)]['user_score']\n",
    "sports_score = actual_df[(actual_df['genre'] == 'Sports') & (actual_df['user_score'] > 0)]['user_score']\n",
    "\n",
    "# тест Стьюдента\n",
    "results = st.ttest_ind(action_score, sports_score)\n",
    "\n",
    "# оцениваем результат\n",
    "print('p-значение:', results.pvalue)\n",
    "\n",
    "if (results.pvalue < alpha):\n",
    "    print(\"Отвергаем нулевую гипотезу\")\n",
    "else:\n",
    "    print(\"Не получилось отвергнуть нулевую гипотезу\")"
   ]
  },
  {
   "cell_type": "markdown",
   "metadata": {},
   "source": [
    "##### Вывод:  \n",
    "присуствует статистически значимая разница между средним пользовательским рейтингом у игр жанров Action & Sports."
   ]
  },
  {
   "cell_type": "markdown",
   "metadata": {},
   "source": [
    "## Общий вывод  \n",
    "\n",
    "История видеоигр в доступной нам статистике берёт начало с 1980 года, однако настоящий её рассвет пришёлся нв 1995 год, когда технологический рост и развитие сферы позволили создавать продукцию, рассчитанную на более широкую аудиторию, а не только энтузиастов.  \n",
    "При анализе данных выяснилось, что не одно поколение платформ успело сменить друг друга. В среднем срок жизни популярных платформ составляет 8-10 лет. Черезвычайно популярными платформами можно считать: PS2, X360, PS3, Wii ,DS, PS.  \n",
    "На текущий момент (2017 год) практически все популярные платформы имеют актуального приемника: PS4, XBox One, 3DS, WiiU.\n",
    "Если не считать 3DS & WiiU от Nintendo, выпускающей очень нишевые продукты, то наиболее перспективными платформами можно считать PS4 & XBox One.  Отдельно бы хотелось подчеркнуть, что PC как платформа всегда показывала стабильный уровень продаж, без взлётов и падений.  \n",
    "С учетом новой информации, что в игровой индустрии следует ориентороваться на данные последних 2-3 лет, был проведён дальнейший анализ и сдланы выводы.  \n",
    "Говоря о перспективности выпуске игры, стоит обязательно учесть в каком регионе её планируется продавать, ведь будущие продажи напрямую зависят от среднего портрета пользователя в регионе, например:  \n",
    "  1) Для пользователя Северной Америки свойственно дома иметь PS4, играть в Action-игры с рейтингом M, то есть для лиц старше 17 лет.  \n",
    "  2) Пользователь из Евросоюза предпочитает PS4, играет в Action-игры с рейтингом M.  \n",
    "  3) Люборытно, что между пользователями из СА и ЕС разница состоит в основном в \"запасной\" платформе: вторая по поулярности в СА - это XBox One, в ЕС - PS3.  \n",
    "  4) Японский пользователь предпочитает платформы от Nintendo (DS & 3DS), играет в игры жанра Role-Playing. По рейтингу информации нет, возможно, потому что деятельность организации Entertainment Software Rating Board (ESRB) не распространяется на Японию. В целом, японские пользователи знамениты своей поддержкой внутреннего рынка, там могут выходить игры, не получающие международного рейтинга и не представленные в остальном мире.  \n",
    "    \n",
    "С учёт учётом всего сказанного выше, делаем вывод, что для 2017 наиболее перспективным будет выпуск игры на платформе PS4 для ЕС в жанре Action, Sports или Shooter, аналогично для СА, только платформа XBox One. С Японией всё сложнее.  \n",
    "Были проверены несколько гипотез:  \n",
    "  * Выяснили, что средние пользовательские рейтинги платформ Xbox One и PC не имеют статистически значимое различие.\n",
    "  * Подтвердили, что средние пользовательские рейтинги жанров Action (англ. «действие», экшен-игры) и Sports (англ. «спортивные соревнования») разные."
   ]
  }
 ],
 "metadata": {
  "ExecuteTimeLog": [
   {
    "duration": 3,
    "start_time": "2023-02-19T17:48:07.885Z"
   },
   {
    "duration": 1403,
    "start_time": "2023-02-19T17:48:35.251Z"
   },
   {
    "duration": 546,
    "start_time": "2023-02-19T18:12:03.044Z"
   },
   {
    "duration": 134,
    "start_time": "2023-02-19T18:43:05.037Z"
   },
   {
    "duration": 122,
    "start_time": "2023-02-19T18:43:26.216Z"
   },
   {
    "duration": 5,
    "start_time": "2023-02-19T18:43:30.896Z"
   },
   {
    "duration": 12,
    "start_time": "2023-02-19T18:44:38.299Z"
   },
   {
    "duration": 7,
    "start_time": "2023-02-19T18:44:59.302Z"
   },
   {
    "duration": 16,
    "start_time": "2023-02-19T18:49:11.216Z"
   },
   {
    "duration": 15,
    "start_time": "2023-02-19T18:51:04.555Z"
   },
   {
    "duration": 17,
    "start_time": "2023-02-19T18:51:10.496Z"
   },
   {
    "duration": 10,
    "start_time": "2023-02-19T18:57:03.413Z"
   },
   {
    "duration": 1163,
    "start_time": "2023-02-19T19:31:51.338Z"
   },
   {
    "duration": 96,
    "start_time": "2023-02-19T19:33:32.410Z"
   },
   {
    "duration": 16,
    "start_time": "2023-02-19T19:33:38.113Z"
   },
   {
    "duration": 16,
    "start_time": "2023-02-19T19:34:13.664Z"
   },
   {
    "duration": 22,
    "start_time": "2023-02-19T19:36:48.853Z"
   },
   {
    "duration": 14,
    "start_time": "2023-02-19T19:40:58.256Z"
   },
   {
    "duration": 12,
    "start_time": "2023-02-19T19:41:14.327Z"
   },
   {
    "duration": 3,
    "start_time": "2023-02-19T19:45:23.958Z"
   },
   {
    "duration": 9,
    "start_time": "2023-02-19T19:45:58.992Z"
   },
   {
    "duration": 5,
    "start_time": "2023-02-19T19:46:08.527Z"
   },
   {
    "duration": 1281,
    "start_time": "2023-02-19T19:46:58.200Z"
   },
   {
    "duration": 116,
    "start_time": "2023-02-19T19:46:59.483Z"
   },
   {
    "duration": 4,
    "start_time": "2023-02-19T19:46:59.601Z"
   },
   {
    "duration": 22,
    "start_time": "2023-02-19T19:46:59.607Z"
   },
   {
    "duration": 15,
    "start_time": "2023-02-19T19:46:59.635Z"
   },
   {
    "duration": 13,
    "start_time": "2023-02-19T19:46:59.652Z"
   },
   {
    "duration": 16,
    "start_time": "2023-02-19T19:46:59.667Z"
   },
   {
    "duration": 29,
    "start_time": "2023-02-19T19:46:59.685Z"
   },
   {
    "duration": 40,
    "start_time": "2023-02-19T19:46:59.716Z"
   },
   {
    "duration": 34,
    "start_time": "2023-02-19T19:46:59.758Z"
   },
   {
    "duration": 21,
    "start_time": "2023-02-19T19:53:49.088Z"
   },
   {
    "duration": 13,
    "start_time": "2023-02-19T19:54:08.240Z"
   },
   {
    "duration": 20,
    "start_time": "2023-02-19T19:54:38.020Z"
   },
   {
    "duration": 14,
    "start_time": "2023-02-19T19:59:28.221Z"
   },
   {
    "duration": 1240,
    "start_time": "2023-02-19T19:59:34.364Z"
   },
   {
    "duration": 121,
    "start_time": "2023-02-19T19:59:35.606Z"
   },
   {
    "duration": 11,
    "start_time": "2023-02-19T19:59:35.728Z"
   },
   {
    "duration": 34,
    "start_time": "2023-02-19T19:59:35.741Z"
   },
   {
    "duration": 68,
    "start_time": "2023-02-19T19:59:35.777Z"
   },
   {
    "duration": 28,
    "start_time": "2023-02-19T19:59:35.847Z"
   },
   {
    "duration": 26,
    "start_time": "2023-02-19T19:59:35.877Z"
   },
   {
    "duration": 58,
    "start_time": "2023-02-19T19:59:35.905Z"
   },
   {
    "duration": 40,
    "start_time": "2023-02-19T19:59:35.966Z"
   },
   {
    "duration": 34,
    "start_time": "2023-02-19T19:59:36.009Z"
   },
   {
    "duration": 140,
    "start_time": "2023-02-19T20:00:20.825Z"
   },
   {
    "duration": 50,
    "start_time": "2023-02-19T20:02:19.793Z"
   },
   {
    "duration": 103,
    "start_time": "2023-02-19T20:03:26.498Z"
   },
   {
    "duration": 15,
    "start_time": "2023-02-19T20:03:32.397Z"
   },
   {
    "duration": 1139,
    "start_time": "2023-02-19T20:40:41.526Z"
   },
   {
    "duration": 1211,
    "start_time": "2023-02-19T20:41:18.368Z"
   },
   {
    "duration": 128,
    "start_time": "2023-02-19T20:41:19.581Z"
   },
   {
    "duration": 3,
    "start_time": "2023-02-19T20:41:19.711Z"
   },
   {
    "duration": 20,
    "start_time": "2023-02-19T20:41:19.717Z"
   },
   {
    "duration": 15,
    "start_time": "2023-02-19T20:41:19.739Z"
   },
   {
    "duration": 65,
    "start_time": "2023-02-19T20:41:19.755Z"
   },
   {
    "duration": 3,
    "start_time": "2023-02-19T20:41:19.822Z"
   },
   {
    "duration": 27,
    "start_time": "2023-02-19T20:41:19.827Z"
   },
   {
    "duration": 28,
    "start_time": "2023-02-19T20:41:19.855Z"
   },
   {
    "duration": 10,
    "start_time": "2023-02-19T20:41:19.885Z"
   },
   {
    "duration": 18,
    "start_time": "2023-02-19T20:41:19.896Z"
   },
   {
    "duration": 16,
    "start_time": "2023-02-19T20:41:19.916Z"
   },
   {
    "duration": 15,
    "start_time": "2023-02-19T20:41:19.934Z"
   },
   {
    "duration": 2,
    "start_time": "2023-02-19T20:41:19.951Z"
   },
   {
    "duration": 15,
    "start_time": "2023-02-19T20:43:19.201Z"
   },
   {
    "duration": 6,
    "start_time": "2023-02-19T20:47:21.384Z"
   },
   {
    "duration": 19,
    "start_time": "2023-02-19T20:48:09.833Z"
   },
   {
    "duration": 12,
    "start_time": "2023-02-19T21:15:51.246Z"
   },
   {
    "duration": 12,
    "start_time": "2023-02-19T21:15:58.657Z"
   },
   {
    "duration": 7,
    "start_time": "2023-02-19T21:17:16.263Z"
   },
   {
    "duration": 7,
    "start_time": "2023-02-19T21:17:28.440Z"
   },
   {
    "duration": 23,
    "start_time": "2023-02-19T21:17:44.479Z"
   },
   {
    "duration": 45,
    "start_time": "2023-02-20T14:27:28.635Z"
   },
   {
    "duration": 1260,
    "start_time": "2023-02-20T14:27:38.566Z"
   },
   {
    "duration": 281,
    "start_time": "2023-02-20T14:27:39.828Z"
   },
   {
    "duration": 3,
    "start_time": "2023-02-20T14:27:40.110Z"
   },
   {
    "duration": 52,
    "start_time": "2023-02-20T14:27:40.115Z"
   },
   {
    "duration": 110,
    "start_time": "2023-02-20T14:27:40.169Z"
   },
   {
    "duration": 66,
    "start_time": "2023-02-20T14:27:40.280Z"
   },
   {
    "duration": 6,
    "start_time": "2023-02-20T14:27:40.347Z"
   },
   {
    "duration": 17,
    "start_time": "2023-02-20T14:27:40.354Z"
   },
   {
    "duration": 18,
    "start_time": "2023-02-20T14:27:40.372Z"
   },
   {
    "duration": 11,
    "start_time": "2023-02-20T14:27:40.391Z"
   },
   {
    "duration": 14,
    "start_time": "2023-02-20T14:27:40.403Z"
   },
   {
    "duration": 9,
    "start_time": "2023-02-20T14:27:40.418Z"
   },
   {
    "duration": 18,
    "start_time": "2023-02-20T14:27:40.429Z"
   },
   {
    "duration": 21,
    "start_time": "2023-02-20T14:27:40.457Z"
   },
   {
    "duration": 16,
    "start_time": "2023-02-20T14:27:40.481Z"
   },
   {
    "duration": 21,
    "start_time": "2023-02-20T14:27:40.498Z"
   },
   {
    "duration": 12,
    "start_time": "2023-02-20T14:27:40.520Z"
   },
   {
    "duration": 19,
    "start_time": "2023-02-20T14:27:40.533Z"
   },
   {
    "duration": 6,
    "start_time": "2023-02-20T14:27:40.553Z"
   },
   {
    "duration": 1312,
    "start_time": "2023-02-20T14:27:40.561Z"
   },
   {
    "duration": 7,
    "start_time": "2023-02-20T14:28:21.578Z"
   },
   {
    "duration": 12,
    "start_time": "2023-02-20T14:28:38.659Z"
   },
   {
    "duration": 74,
    "start_time": "2023-02-20T14:28:58.672Z"
   },
   {
    "duration": 15,
    "start_time": "2023-02-20T14:29:02.280Z"
   },
   {
    "duration": 25,
    "start_time": "2023-02-20T14:29:56.837Z"
   },
   {
    "duration": 153,
    "start_time": "2023-02-20T14:33:02.510Z"
   },
   {
    "duration": 112,
    "start_time": "2023-02-20T14:33:07.356Z"
   },
   {
    "duration": 120,
    "start_time": "2023-02-20T14:35:24.012Z"
   },
   {
    "duration": 159,
    "start_time": "2023-02-20T14:35:54.731Z"
   },
   {
    "duration": 180,
    "start_time": "2023-02-20T14:37:51.437Z"
   },
   {
    "duration": 165,
    "start_time": "2023-02-20T14:44:40.222Z"
   },
   {
    "duration": 171,
    "start_time": "2023-02-20T14:44:56.298Z"
   },
   {
    "duration": 244,
    "start_time": "2023-02-20T14:45:14.911Z"
   },
   {
    "duration": 136,
    "start_time": "2023-02-20T14:45:21.247Z"
   },
   {
    "duration": 178,
    "start_time": "2023-02-20T14:45:41.843Z"
   },
   {
    "duration": 20,
    "start_time": "2023-02-20T14:57:20.073Z"
   },
   {
    "duration": 123,
    "start_time": "2023-02-20T14:57:47.265Z"
   },
   {
    "duration": 118,
    "start_time": "2023-02-20T14:57:51.067Z"
   },
   {
    "duration": 21,
    "start_time": "2023-02-20T14:58:18.144Z"
   },
   {
    "duration": 20,
    "start_time": "2023-02-20T15:04:01.353Z"
   },
   {
    "duration": 15,
    "start_time": "2023-02-20T15:06:57.738Z"
   },
   {
    "duration": 17,
    "start_time": "2023-02-20T15:07:27.964Z"
   },
   {
    "duration": 1258,
    "start_time": "2023-02-20T16:29:45.254Z"
   },
   {
    "duration": 191,
    "start_time": "2023-02-20T16:29:46.514Z"
   },
   {
    "duration": 3,
    "start_time": "2023-02-20T16:29:46.707Z"
   },
   {
    "duration": 6,
    "start_time": "2023-02-20T16:29:46.712Z"
   },
   {
    "duration": 10,
    "start_time": "2023-02-20T16:29:46.719Z"
   },
   {
    "duration": 82,
    "start_time": "2023-02-20T16:29:46.731Z"
   },
   {
    "duration": 4,
    "start_time": "2023-02-20T16:29:46.815Z"
   },
   {
    "duration": 11,
    "start_time": "2023-02-20T16:29:46.821Z"
   },
   {
    "duration": 18,
    "start_time": "2023-02-20T16:29:46.834Z"
   },
   {
    "duration": 15,
    "start_time": "2023-02-20T16:29:46.855Z"
   },
   {
    "duration": 9,
    "start_time": "2023-02-20T16:29:46.872Z"
   },
   {
    "duration": 27,
    "start_time": "2023-02-20T16:29:46.883Z"
   },
   {
    "duration": 17,
    "start_time": "2023-02-20T16:29:46.912Z"
   },
   {
    "duration": 20,
    "start_time": "2023-02-20T16:29:46.931Z"
   },
   {
    "duration": 22,
    "start_time": "2023-02-20T16:29:46.953Z"
   },
   {
    "duration": 38,
    "start_time": "2023-02-20T16:29:46.977Z"
   },
   {
    "duration": 21,
    "start_time": "2023-02-20T16:29:47.017Z"
   },
   {
    "duration": 6,
    "start_time": "2023-02-20T16:29:47.040Z"
   },
   {
    "duration": 7,
    "start_time": "2023-02-20T16:29:47.047Z"
   },
   {
    "duration": 18,
    "start_time": "2023-02-20T16:29:47.056Z"
   },
   {
    "duration": 234,
    "start_time": "2023-02-20T16:29:47.076Z"
   },
   {
    "duration": 19,
    "start_time": "2023-02-20T16:29:47.312Z"
   },
   {
    "duration": 271,
    "start_time": "2023-02-20T16:30:09.414Z"
   },
   {
    "duration": 16,
    "start_time": "2023-02-20T16:30:20.903Z"
   },
   {
    "duration": 20,
    "start_time": "2023-02-20T16:36:05.019Z"
   },
   {
    "duration": 44,
    "start_time": "2023-02-20T16:37:07.850Z"
   },
   {
    "duration": 7,
    "start_time": "2023-02-20T16:37:28.876Z"
   },
   {
    "duration": 20,
    "start_time": "2023-02-20T16:37:50.973Z"
   },
   {
    "duration": 127,
    "start_time": "2023-02-20T16:38:34.944Z"
   },
   {
    "duration": 119,
    "start_time": "2023-02-20T16:39:23.858Z"
   },
   {
    "duration": 131,
    "start_time": "2023-02-20T16:39:43.818Z"
   },
   {
    "duration": 155,
    "start_time": "2023-02-20T16:40:04.168Z"
   },
   {
    "duration": 219,
    "start_time": "2023-02-20T16:40:38.681Z"
   },
   {
    "duration": 189,
    "start_time": "2023-02-20T16:41:05.642Z"
   },
   {
    "duration": 253,
    "start_time": "2023-02-20T16:42:24.470Z"
   },
   {
    "duration": 230,
    "start_time": "2023-02-20T16:43:53.013Z"
   },
   {
    "duration": 20,
    "start_time": "2023-02-20T16:44:10.258Z"
   },
   {
    "duration": 18,
    "start_time": "2023-02-20T16:44:39.903Z"
   },
   {
    "duration": 20,
    "start_time": "2023-02-20T16:45:04.278Z"
   },
   {
    "duration": 16,
    "start_time": "2023-02-20T16:45:18.060Z"
   },
   {
    "duration": 21,
    "start_time": "2023-02-20T16:45:39.429Z"
   },
   {
    "duration": 19,
    "start_time": "2023-02-20T16:45:57.017Z"
   },
   {
    "duration": 16,
    "start_time": "2023-02-20T16:46:43.930Z"
   },
   {
    "duration": 21,
    "start_time": "2023-02-20T16:46:52.888Z"
   },
   {
    "duration": 120,
    "start_time": "2023-02-20T16:47:26.402Z"
   },
   {
    "duration": 134,
    "start_time": "2023-02-20T16:47:57.386Z"
   },
   {
    "duration": 209,
    "start_time": "2023-02-20T16:48:34.837Z"
   },
   {
    "duration": 21,
    "start_time": "2023-02-20T16:50:30.942Z"
   },
   {
    "duration": 179,
    "start_time": "2023-02-20T16:51:08.516Z"
   },
   {
    "duration": 214,
    "start_time": "2023-02-20T16:51:19.458Z"
   },
   {
    "duration": 38,
    "start_time": "2023-02-20T16:52:16.544Z"
   },
   {
    "duration": 518,
    "start_time": "2023-02-20T16:52:20.877Z"
   },
   {
    "duration": 484,
    "start_time": "2023-02-20T16:54:48.616Z"
   },
   {
    "duration": 571,
    "start_time": "2023-02-20T16:55:02.634Z"
   },
   {
    "duration": 504,
    "start_time": "2023-02-20T16:55:14.065Z"
   },
   {
    "duration": 505,
    "start_time": "2023-02-20T16:55:38.644Z"
   },
   {
    "duration": 507,
    "start_time": "2023-02-20T16:56:00.542Z"
   },
   {
    "duration": 32,
    "start_time": "2023-02-20T16:57:52.783Z"
   },
   {
    "duration": 766,
    "start_time": "2023-02-20T17:00:29.991Z"
   },
   {
    "duration": 523,
    "start_time": "2023-02-20T17:01:16.014Z"
   },
   {
    "duration": 531,
    "start_time": "2023-02-20T17:01:44.479Z"
   },
   {
    "duration": 317,
    "start_time": "2023-02-20T17:27:35.819Z"
   },
   {
    "duration": 355,
    "start_time": "2023-02-20T17:39:32.227Z"
   },
   {
    "duration": 17,
    "start_time": "2023-02-20T18:38:22.247Z"
   },
   {
    "duration": 20,
    "start_time": "2023-02-20T18:39:09.037Z"
   },
   {
    "duration": 115,
    "start_time": "2023-02-20T19:01:16.470Z"
   },
   {
    "duration": 112,
    "start_time": "2023-02-20T19:01:33.132Z"
   },
   {
    "duration": 121,
    "start_time": "2023-02-20T19:02:51.003Z"
   },
   {
    "duration": 115,
    "start_time": "2023-02-20T19:03:23.603Z"
   },
   {
    "duration": 224,
    "start_time": "2023-02-20T19:04:47.259Z"
   },
   {
    "duration": 358,
    "start_time": "2023-02-20T19:05:43.461Z"
   },
   {
    "duration": 259,
    "start_time": "2023-02-20T19:06:46.498Z"
   },
   {
    "duration": 162,
    "start_time": "2023-02-20T19:06:58.653Z"
   },
   {
    "duration": 273,
    "start_time": "2023-02-20T19:07:08.743Z"
   },
   {
    "duration": 273,
    "start_time": "2023-02-20T19:07:18.057Z"
   },
   {
    "duration": 1121,
    "start_time": "2023-02-20T19:08:12.000Z"
   },
   {
    "duration": 112,
    "start_time": "2023-02-20T19:08:13.122Z"
   },
   {
    "duration": 4,
    "start_time": "2023-02-20T19:08:13.236Z"
   },
   {
    "duration": 8,
    "start_time": "2023-02-20T19:08:13.241Z"
   },
   {
    "duration": 8,
    "start_time": "2023-02-20T19:08:13.251Z"
   },
   {
    "duration": 78,
    "start_time": "2023-02-20T19:08:13.261Z"
   },
   {
    "duration": 3,
    "start_time": "2023-02-20T19:08:13.341Z"
   },
   {
    "duration": 6,
    "start_time": "2023-02-20T19:08:13.346Z"
   },
   {
    "duration": 12,
    "start_time": "2023-02-20T19:08:13.353Z"
   },
   {
    "duration": 9,
    "start_time": "2023-02-20T19:08:13.367Z"
   },
   {
    "duration": 7,
    "start_time": "2023-02-20T19:08:13.377Z"
   },
   {
    "duration": 3,
    "start_time": "2023-02-20T19:08:13.410Z"
   },
   {
    "duration": 20,
    "start_time": "2023-02-20T19:08:13.414Z"
   },
   {
    "duration": 12,
    "start_time": "2023-02-20T19:08:13.436Z"
   },
   {
    "duration": 17,
    "start_time": "2023-02-20T19:08:13.449Z"
   },
   {
    "duration": 11,
    "start_time": "2023-02-20T19:08:13.468Z"
   },
   {
    "duration": 35,
    "start_time": "2023-02-20T19:08:13.481Z"
   },
   {
    "duration": 6,
    "start_time": "2023-02-20T19:08:13.517Z"
   },
   {
    "duration": 6,
    "start_time": "2023-02-20T19:08:13.524Z"
   },
   {
    "duration": 17,
    "start_time": "2023-02-20T19:08:13.531Z"
   },
   {
    "duration": 216,
    "start_time": "2023-02-20T19:08:13.550Z"
   },
   {
    "duration": 16,
    "start_time": "2023-02-20T19:08:13.768Z"
   },
   {
    "duration": 534,
    "start_time": "2023-02-20T19:08:13.786Z"
   },
   {
    "duration": 344,
    "start_time": "2023-02-20T19:08:14.321Z"
   },
   {
    "duration": 14,
    "start_time": "2023-02-20T19:08:14.667Z"
   },
   {
    "duration": 296,
    "start_time": "2023-02-20T19:08:14.682Z"
   },
   {
    "duration": 350,
    "start_time": "2023-02-20T19:09:35.179Z"
   },
   {
    "duration": 274,
    "start_time": "2023-02-20T19:10:28.363Z"
   },
   {
    "duration": 423,
    "start_time": "2023-02-20T19:11:22.497Z"
   },
   {
    "duration": 297,
    "start_time": "2023-02-20T19:11:53.765Z"
   },
   {
    "duration": 371,
    "start_time": "2023-02-20T19:15:36.535Z"
   },
   {
    "duration": 391,
    "start_time": "2023-02-20T19:18:18.124Z"
   },
   {
    "duration": 21,
    "start_time": "2023-02-20T19:43:52.748Z"
   },
   {
    "duration": 18,
    "start_time": "2023-02-20T19:44:40.909Z"
   },
   {
    "duration": 24,
    "start_time": "2023-02-20T19:47:06.387Z"
   },
   {
    "duration": 25,
    "start_time": "2023-02-20T19:48:21.202Z"
   },
   {
    "duration": 176,
    "start_time": "2023-02-20T19:50:08.722Z"
   },
   {
    "duration": 130,
    "start_time": "2023-02-20T19:50:59.508Z"
   },
   {
    "duration": 143,
    "start_time": "2023-02-20T19:51:25.037Z"
   },
   {
    "duration": 135,
    "start_time": "2023-02-20T19:51:31.577Z"
   },
   {
    "duration": 147,
    "start_time": "2023-02-20T19:52:45.135Z"
   },
   {
    "duration": 232,
    "start_time": "2023-02-20T19:53:38.107Z"
   },
   {
    "duration": 158,
    "start_time": "2023-02-20T19:55:30.305Z"
   },
   {
    "duration": 158,
    "start_time": "2023-02-20T19:57:33.413Z"
   },
   {
    "duration": 201,
    "start_time": "2023-02-20T19:58:26.909Z"
   },
   {
    "duration": 173,
    "start_time": "2023-02-20T19:59:31.891Z"
   },
   {
    "duration": 159,
    "start_time": "2023-02-20T19:59:45.085Z"
   },
   {
    "duration": 170,
    "start_time": "2023-02-20T20:19:13.341Z"
   },
   {
    "duration": 155,
    "start_time": "2023-02-20T20:19:22.385Z"
   },
   {
    "duration": 16,
    "start_time": "2023-02-20T20:22:10.357Z"
   },
   {
    "duration": 16,
    "start_time": "2023-02-20T20:22:22.355Z"
   },
   {
    "duration": 21,
    "start_time": "2023-02-20T20:23:12.867Z"
   },
   {
    "duration": 14,
    "start_time": "2023-02-20T20:23:55.626Z"
   },
   {
    "duration": 17,
    "start_time": "2023-02-20T20:23:57.013Z"
   },
   {
    "duration": 14,
    "start_time": "2023-02-20T20:24:39.220Z"
   },
   {
    "duration": 17,
    "start_time": "2023-02-20T20:24:41.522Z"
   },
   {
    "duration": 25,
    "start_time": "2023-02-20T20:33:07.533Z"
   },
   {
    "duration": 61,
    "start_time": "2023-02-20T20:34:09.560Z"
   },
   {
    "duration": 15,
    "start_time": "2023-02-20T20:37:30.792Z"
   },
   {
    "duration": 18,
    "start_time": "2023-02-20T20:38:38.279Z"
   },
   {
    "duration": 285,
    "start_time": "2023-02-20T20:45:13.801Z"
   },
   {
    "duration": 14,
    "start_time": "2023-02-20T20:50:57.770Z"
   },
   {
    "duration": 17,
    "start_time": "2023-02-20T20:51:06.805Z"
   },
   {
    "duration": 20,
    "start_time": "2023-02-20T20:51:11.940Z"
   },
   {
    "duration": 47,
    "start_time": "2023-02-21T09:25:06.657Z"
   },
   {
    "duration": 1318,
    "start_time": "2023-02-21T09:25:16.432Z"
   },
   {
    "duration": 161,
    "start_time": "2023-02-21T09:25:17.752Z"
   },
   {
    "duration": 4,
    "start_time": "2023-02-21T09:25:17.915Z"
   },
   {
    "duration": 7,
    "start_time": "2023-02-21T09:25:17.921Z"
   },
   {
    "duration": 10,
    "start_time": "2023-02-21T09:25:17.930Z"
   },
   {
    "duration": 50,
    "start_time": "2023-02-21T09:25:17.942Z"
   },
   {
    "duration": 3,
    "start_time": "2023-02-21T09:25:17.993Z"
   },
   {
    "duration": 29,
    "start_time": "2023-02-21T09:25:17.998Z"
   },
   {
    "duration": 13,
    "start_time": "2023-02-21T09:25:18.028Z"
   },
   {
    "duration": 10,
    "start_time": "2023-02-21T09:25:18.044Z"
   },
   {
    "duration": 6,
    "start_time": "2023-02-21T09:25:18.056Z"
   },
   {
    "duration": 6,
    "start_time": "2023-02-21T09:25:18.063Z"
   },
   {
    "duration": 19,
    "start_time": "2023-02-21T09:25:18.070Z"
   },
   {
    "duration": 20,
    "start_time": "2023-02-21T09:25:18.091Z"
   },
   {
    "duration": 19,
    "start_time": "2023-02-21T09:25:18.127Z"
   },
   {
    "duration": 14,
    "start_time": "2023-02-21T09:25:18.147Z"
   },
   {
    "duration": 17,
    "start_time": "2023-02-21T09:25:18.163Z"
   },
   {
    "duration": 7,
    "start_time": "2023-02-21T09:25:18.182Z"
   },
   {
    "duration": 37,
    "start_time": "2023-02-21T09:25:18.191Z"
   },
   {
    "duration": 20,
    "start_time": "2023-02-21T09:25:18.230Z"
   },
   {
    "duration": 236,
    "start_time": "2023-02-21T09:25:18.251Z"
   },
   {
    "duration": 18,
    "start_time": "2023-02-21T09:25:18.489Z"
   },
   {
    "duration": 609,
    "start_time": "2023-02-21T09:25:18.510Z"
   },
   {
    "duration": 358,
    "start_time": "2023-02-21T09:25:19.121Z"
   },
   {
    "duration": 15,
    "start_time": "2023-02-21T09:25:19.480Z"
   },
   {
    "duration": 354,
    "start_time": "2023-02-21T09:25:19.497Z"
   },
   {
    "duration": 248,
    "start_time": "2023-02-21T09:25:19.852Z"
   },
   {
    "duration": 203,
    "start_time": "2023-02-21T09:25:20.103Z"
   },
   {
    "duration": 89,
    "start_time": "2023-02-21T09:25:20.308Z"
   },
   {
    "duration": 35,
    "start_time": "2023-02-21T09:25:20.399Z"
   },
   {
    "duration": 325,
    "start_time": "2023-02-21T09:25:20.435Z"
   },
   {
    "duration": 174,
    "start_time": "2023-02-21T09:25:20.763Z"
   },
   {
    "duration": 157,
    "start_time": "2023-02-21T09:25:49.275Z"
   },
   {
    "duration": 216,
    "start_time": "2023-02-21T09:26:37.205Z"
   },
   {
    "duration": 217,
    "start_time": "2023-02-21T09:27:34.010Z"
   },
   {
    "duration": 176,
    "start_time": "2023-02-21T09:30:13.106Z"
   },
   {
    "duration": 99,
    "start_time": "2023-02-21T09:58:12.065Z"
   },
   {
    "duration": 382,
    "start_time": "2023-02-21T09:59:44.629Z"
   },
   {
    "duration": 482,
    "start_time": "2023-02-21T10:01:57.976Z"
   },
   {
    "duration": 415,
    "start_time": "2023-02-21T10:03:19.170Z"
   },
   {
    "duration": 406,
    "start_time": "2023-02-21T10:03:43.451Z"
   },
   {
    "duration": 365,
    "start_time": "2023-02-21T10:03:53.695Z"
   },
   {
    "duration": 14,
    "start_time": "2023-02-21T10:43:19.453Z"
   },
   {
    "duration": 10,
    "start_time": "2023-02-21T10:43:57.228Z"
   },
   {
    "duration": 11,
    "start_time": "2023-02-21T10:51:21.583Z"
   },
   {
    "duration": 1368,
    "start_time": "2023-02-22T08:40:11.655Z"
   },
   {
    "duration": 121,
    "start_time": "2023-02-22T08:40:13.026Z"
   },
   {
    "duration": 4,
    "start_time": "2023-02-22T08:40:13.149Z"
   },
   {
    "duration": 13,
    "start_time": "2023-02-22T08:40:13.155Z"
   },
   {
    "duration": 33,
    "start_time": "2023-02-22T08:40:13.170Z"
   },
   {
    "duration": 82,
    "start_time": "2023-02-22T08:40:13.210Z"
   },
   {
    "duration": 3,
    "start_time": "2023-02-22T08:40:13.294Z"
   },
   {
    "duration": 31,
    "start_time": "2023-02-22T08:40:13.298Z"
   },
   {
    "duration": 22,
    "start_time": "2023-02-22T08:40:13.331Z"
   },
   {
    "duration": 11,
    "start_time": "2023-02-22T08:40:13.356Z"
   },
   {
    "duration": 7,
    "start_time": "2023-02-22T08:40:13.369Z"
   },
   {
    "duration": 9,
    "start_time": "2023-02-22T08:40:13.377Z"
   },
   {
    "duration": 29,
    "start_time": "2023-02-22T08:40:13.388Z"
   },
   {
    "duration": 22,
    "start_time": "2023-02-22T08:40:13.419Z"
   },
   {
    "duration": 21,
    "start_time": "2023-02-22T08:40:13.443Z"
   },
   {
    "duration": 31,
    "start_time": "2023-02-22T08:40:13.466Z"
   },
   {
    "duration": 31,
    "start_time": "2023-02-22T08:40:13.499Z"
   },
   {
    "duration": 6,
    "start_time": "2023-02-22T08:40:13.532Z"
   },
   {
    "duration": 8,
    "start_time": "2023-02-22T08:40:13.540Z"
   },
   {
    "duration": 19,
    "start_time": "2023-02-22T08:40:13.550Z"
   },
   {
    "duration": 242,
    "start_time": "2023-02-22T08:40:13.570Z"
   },
   {
    "duration": 21,
    "start_time": "2023-02-22T08:40:13.813Z"
   },
   {
    "duration": 639,
    "start_time": "2023-02-22T08:40:13.836Z"
   },
   {
    "duration": 411,
    "start_time": "2023-02-22T08:40:14.477Z"
   },
   {
    "duration": 25,
    "start_time": "2023-02-22T08:40:14.890Z"
   },
   {
    "duration": 378,
    "start_time": "2023-02-22T08:40:14.917Z"
   },
   {
    "duration": 315,
    "start_time": "2023-02-22T08:40:15.299Z"
   },
   {
    "duration": 240,
    "start_time": "2023-02-22T08:40:15.618Z"
   },
   {
    "duration": 92,
    "start_time": "2023-02-22T08:40:15.861Z"
   },
   {
    "duration": 20,
    "start_time": "2023-02-22T08:40:15.955Z"
   },
   {
    "duration": 420,
    "start_time": "2023-02-22T08:40:15.977Z"
   },
   {
    "duration": 626,
    "start_time": "2023-02-22T08:40:16.400Z"
   },
   {
    "duration": 612,
    "start_time": "2023-02-22T08:40:17.028Z"
   },
   {
    "duration": 465,
    "start_time": "2023-02-22T08:40:17.641Z"
   },
   {
    "duration": 14,
    "start_time": "2023-02-22T08:40:18.112Z"
   },
   {
    "duration": 15,
    "start_time": "2023-02-22T08:40:18.128Z"
   },
   {
    "duration": 62,
    "start_time": "2023-02-22T11:49:09.734Z"
   },
   {
    "duration": 1528,
    "start_time": "2023-02-22T11:49:17.645Z"
   },
   {
    "duration": 273,
    "start_time": "2023-02-22T11:49:19.176Z"
   },
   {
    "duration": 4,
    "start_time": "2023-02-22T11:49:19.451Z"
   },
   {
    "duration": 19,
    "start_time": "2023-02-22T11:49:19.457Z"
   },
   {
    "duration": 17,
    "start_time": "2023-02-22T11:49:19.477Z"
   },
   {
    "duration": 63,
    "start_time": "2023-02-22T11:49:19.496Z"
   },
   {
    "duration": 3,
    "start_time": "2023-02-22T11:49:19.561Z"
   },
   {
    "duration": 6,
    "start_time": "2023-02-22T11:49:19.566Z"
   },
   {
    "duration": 15,
    "start_time": "2023-02-22T11:49:19.574Z"
   },
   {
    "duration": 12,
    "start_time": "2023-02-22T11:49:19.592Z"
   },
   {
    "duration": 33,
    "start_time": "2023-02-22T11:49:19.606Z"
   },
   {
    "duration": 6,
    "start_time": "2023-02-22T11:49:19.641Z"
   },
   {
    "duration": 26,
    "start_time": "2023-02-22T11:49:19.649Z"
   },
   {
    "duration": 34,
    "start_time": "2023-02-22T11:49:19.676Z"
   },
   {
    "duration": 30,
    "start_time": "2023-02-22T11:49:19.712Z"
   },
   {
    "duration": 19,
    "start_time": "2023-02-22T11:49:19.744Z"
   },
   {
    "duration": 26,
    "start_time": "2023-02-22T11:49:19.765Z"
   },
   {
    "duration": 10,
    "start_time": "2023-02-22T11:49:19.792Z"
   },
   {
    "duration": 15,
    "start_time": "2023-02-22T11:49:19.804Z"
   },
   {
    "duration": 28,
    "start_time": "2023-02-22T11:49:19.821Z"
   },
   {
    "duration": 240,
    "start_time": "2023-02-22T11:49:19.851Z"
   },
   {
    "duration": 18,
    "start_time": "2023-02-22T11:49:20.093Z"
   },
   {
    "duration": 636,
    "start_time": "2023-02-22T11:49:20.112Z"
   },
   {
    "duration": 358,
    "start_time": "2023-02-22T11:49:20.749Z"
   },
   {
    "duration": 29,
    "start_time": "2023-02-22T11:49:21.109Z"
   },
   {
    "duration": 381,
    "start_time": "2023-02-22T11:49:21.139Z"
   },
   {
    "duration": 191,
    "start_time": "2023-02-22T11:49:21.523Z"
   },
   {
    "duration": 283,
    "start_time": "2023-02-22T11:49:21.719Z"
   },
   {
    "duration": 89,
    "start_time": "2023-02-22T11:49:22.003Z"
   },
   {
    "duration": 15,
    "start_time": "2023-02-22T11:49:22.093Z"
   },
   {
    "duration": 355,
    "start_time": "2023-02-22T11:49:22.109Z"
   },
   {
    "duration": 466,
    "start_time": "2023-02-22T11:49:22.466Z"
   },
   {
    "duration": 416,
    "start_time": "2023-02-22T11:49:22.937Z"
   },
   {
    "duration": 415,
    "start_time": "2023-02-22T11:49:23.354Z"
   },
   {
    "duration": 9,
    "start_time": "2023-02-22T11:49:23.771Z"
   },
   {
    "duration": 11,
    "start_time": "2023-02-22T11:49:23.782Z"
   },
   {
    "duration": 4,
    "start_time": "2023-02-22T11:50:19.130Z"
   },
   {
    "duration": 144,
    "start_time": "2023-02-22T11:50:19.136Z"
   },
   {
    "duration": 5,
    "start_time": "2023-02-22T11:50:19.282Z"
   },
   {
    "duration": 10,
    "start_time": "2023-02-22T11:50:19.289Z"
   },
   {
    "duration": 38,
    "start_time": "2023-02-22T11:50:19.301Z"
   },
   {
    "duration": 24,
    "start_time": "2023-02-22T11:50:19.341Z"
   },
   {
    "duration": 4,
    "start_time": "2023-02-22T11:50:19.367Z"
   },
   {
    "duration": 9,
    "start_time": "2023-02-22T11:50:19.373Z"
   },
   {
    "duration": 57,
    "start_time": "2023-02-22T11:50:19.384Z"
   },
   {
    "duration": 13,
    "start_time": "2023-02-22T11:50:19.443Z"
   },
   {
    "duration": 15,
    "start_time": "2023-02-22T11:50:19.459Z"
   },
   {
    "duration": 39,
    "start_time": "2023-02-22T11:50:19.475Z"
   },
   {
    "duration": 23,
    "start_time": "2023-02-22T11:50:19.516Z"
   },
   {
    "duration": 23,
    "start_time": "2023-02-22T11:50:19.542Z"
   },
   {
    "duration": 21,
    "start_time": "2023-02-22T11:50:19.568Z"
   },
   {
    "duration": 30,
    "start_time": "2023-02-22T11:50:19.591Z"
   },
   {
    "duration": 36,
    "start_time": "2023-02-22T11:50:19.622Z"
   },
   {
    "duration": 24,
    "start_time": "2023-02-22T11:50:19.661Z"
   },
   {
    "duration": 10,
    "start_time": "2023-02-22T11:50:19.687Z"
   },
   {
    "duration": 23,
    "start_time": "2023-02-22T11:50:19.699Z"
   },
   {
    "duration": 231,
    "start_time": "2023-02-22T11:50:19.723Z"
   },
   {
    "duration": 18,
    "start_time": "2023-02-22T11:50:19.956Z"
   },
   {
    "duration": 703,
    "start_time": "2023-02-22T11:50:19.975Z"
   },
   {
    "duration": 360,
    "start_time": "2023-02-22T11:50:20.680Z"
   },
   {
    "duration": 16,
    "start_time": "2023-02-22T11:54:36.104Z"
   },
   {
    "duration": 389,
    "start_time": "2023-02-22T12:02:55.068Z"
   },
   {
    "duration": 331,
    "start_time": "2023-02-22T12:03:27.367Z"
   },
   {
    "duration": 307,
    "start_time": "2023-02-22T12:03:43.828Z"
   },
   {
    "duration": 292,
    "start_time": "2023-02-22T12:05:16.336Z"
   },
   {
    "duration": 423,
    "start_time": "2023-02-22T12:05:23.188Z"
   },
   {
    "duration": 330,
    "start_time": "2023-02-22T12:06:04.278Z"
   },
   {
    "duration": 351,
    "start_time": "2023-02-22T12:06:12.730Z"
   },
   {
    "duration": 1392,
    "start_time": "2023-02-22T12:07:00.434Z"
   },
   {
    "duration": 190,
    "start_time": "2023-02-22T12:07:01.828Z"
   },
   {
    "duration": 24,
    "start_time": "2023-02-22T12:07:02.020Z"
   },
   {
    "duration": 54,
    "start_time": "2023-02-22T12:07:02.046Z"
   },
   {
    "duration": 46,
    "start_time": "2023-02-22T12:07:02.103Z"
   },
   {
    "duration": 118,
    "start_time": "2023-02-22T12:07:02.151Z"
   },
   {
    "duration": 4,
    "start_time": "2023-02-22T12:07:02.275Z"
   },
   {
    "duration": 22,
    "start_time": "2023-02-22T12:07:02.282Z"
   },
   {
    "duration": 27,
    "start_time": "2023-02-22T12:07:02.306Z"
   },
   {
    "duration": 45,
    "start_time": "2023-02-22T12:07:02.335Z"
   },
   {
    "duration": 9,
    "start_time": "2023-02-22T12:07:02.382Z"
   },
   {
    "duration": 17,
    "start_time": "2023-02-22T12:07:02.392Z"
   },
   {
    "duration": 64,
    "start_time": "2023-02-22T12:07:02.411Z"
   },
   {
    "duration": 37,
    "start_time": "2023-02-22T12:07:02.480Z"
   },
   {
    "duration": 50,
    "start_time": "2023-02-22T12:07:02.519Z"
   },
   {
    "duration": 47,
    "start_time": "2023-02-22T12:07:02.573Z"
   },
   {
    "duration": 35,
    "start_time": "2023-02-22T12:07:02.622Z"
   },
   {
    "duration": 29,
    "start_time": "2023-02-22T12:07:02.661Z"
   },
   {
    "duration": 13,
    "start_time": "2023-02-22T12:07:02.692Z"
   },
   {
    "duration": 66,
    "start_time": "2023-02-22T12:07:02.707Z"
   },
   {
    "duration": 307,
    "start_time": "2023-02-22T12:07:02.781Z"
   },
   {
    "duration": 20,
    "start_time": "2023-02-22T12:07:03.090Z"
   },
   {
    "duration": 704,
    "start_time": "2023-02-22T12:07:03.112Z"
   },
   {
    "duration": 362,
    "start_time": "2023-02-22T12:07:03.817Z"
   },
   {
    "duration": 15,
    "start_time": "2023-02-22T12:07:04.180Z"
   },
   {
    "duration": 327,
    "start_time": "2023-02-22T12:07:04.196Z"
   },
   {
    "duration": 206,
    "start_time": "2023-02-22T12:07:04.524Z"
   },
   {
    "duration": 287,
    "start_time": "2023-02-22T12:07:04.731Z"
   },
   {
    "duration": 86,
    "start_time": "2023-02-22T12:07:05.020Z"
   },
   {
    "duration": 17,
    "start_time": "2023-02-22T12:07:05.108Z"
   },
   {
    "duration": 353,
    "start_time": "2023-02-22T12:07:05.137Z"
   },
   {
    "duration": 445,
    "start_time": "2023-02-22T12:07:05.492Z"
   },
   {
    "duration": 444,
    "start_time": "2023-02-22T12:07:05.940Z"
   },
   {
    "duration": 475,
    "start_time": "2023-02-22T12:07:06.386Z"
   },
   {
    "duration": 13,
    "start_time": "2023-02-22T12:07:06.863Z"
   },
   {
    "duration": 9,
    "start_time": "2023-02-22T12:07:06.878Z"
   }
  ],
  "kernelspec": {
   "display_name": "Python 3 (ipykernel)",
   "language": "python",
   "name": "python3"
  },
  "language_info": {
   "codemirror_mode": {
    "name": "ipython",
    "version": 3
   },
   "file_extension": ".py",
   "mimetype": "text/x-python",
   "name": "python",
   "nbconvert_exporter": "python",
   "pygments_lexer": "ipython3",
   "version": "3.9.16"
  },
  "toc": {
   "base_numbering": 1,
   "nav_menu": {},
   "number_sections": true,
   "sideBar": true,
   "skip_h1_title": true,
   "title_cell": "Table of Contents",
   "title_sidebar": "Contents",
   "toc_cell": false,
   "toc_position": {},
   "toc_section_display": true,
   "toc_window_display": true
  }
 },
 "nbformat": 4,
 "nbformat_minor": 2
}
